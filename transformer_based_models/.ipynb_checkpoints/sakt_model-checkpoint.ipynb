{
 "cells": [
  {
   "cell_type": "code",
   "execution_count": 2,
   "metadata": {
    "_cell_guid": "79c7e3d0-c299-4dcb-8224-4455121ee9b0",
    "_uuid": "d629ff2d2480ee46fbb7e2d37f6b5fab8052498a"
   },
   "outputs": [],
   "source": [
    "import psutil\n",
    "import joblib\n",
    "import numpy as np\n",
    "import pandas as pd\n",
    "import torch\n",
    "from tqdm import tqdm\n",
    "from sklearn.metrics import roc_auc_score\n",
    "import torch.nn as nn\n",
    "from sklearn.model_selection import KFold\n",
    "from torch.utils.data import Dataset, DataLoader\n",
    "import gc\n",
    "import os\n",
    "import warnings\n",
    "warnings.filterwarnings(\"ignore\")"
   ]
  },
  {
   "cell_type": "code",
   "execution_count": 3,
   "metadata": {},
   "outputs": [],
   "source": [
    "#load data\n",
    "data = pd.read_csv('../input/practice-log-demographics/Practice_Log_Demographics.csv', low_memory=False)"
   ]
  },
  {
   "cell_type": "code",
   "execution_count": 6,
   "metadata": {},
   "outputs": [],
   "source": [
    "#transform q value so that if it is >= 4 it would be\n",
    "#considered as 1 (correct) and if <4 0(incorrect)\n",
    "data['q'] = data['q'].apply(lambda a: a>=4)\n",
    "data['q'] = data['q'].astype(np.int8)"
   ]
  },
  {
   "cell_type": "code",
   "execution_count": 7,
   "metadata": {},
   "outputs": [
    {
     "data": {
      "text/plain": [
       "80"
      ]
     },
     "execution_count": 7,
     "metadata": {},
     "output_type": "execute_result"
    }
   ],
   "source": [
    "gc.collect()"
   ]
  },
  {
   "cell_type": "code",
   "execution_count": 12,
   "metadata": {},
   "outputs": [],
   "source": [
    "#convert start_practice and end_practice to datatime column\n",
    "data.start_practice = pd.to_datetime(data.start_practice, format='%Y-%m-%d %H:%M:%S')\n",
    "data.end_practice = pd.to_datetime(data.end_practice, format='%Y-%m-%d %H:%M:%S')\n",
    "#label encode term, chapter_label, question_name, sub_chapter_label columns\n",
    "term_d = {'WN 2018': 0, 'FA 2018':1, 'WN 2019': 2, 'FA 2019':3, 'WN 2020': 4, 'FA 2020':5 }\n",
    "data['chapter_id'] = data['chapter_label'].replace(data['chapter_label'].unique(), list(range(data['chapter_label'].nunique()))) + 1\n",
    "data['sub_chapter_id'] = data['sub_chapter_label'].replace(data['sub_chapter_label'].unique(), list(range(data['sub_chapter_label'].nunique()))) + 1\n",
    "data['question_id'] = data['question_name'].replace(data['question_name'].unique(), list(range(data['question_name'].nunique()))) + 1\n",
    "data['term'] = data['term'].replace(term_d) + 1"
   ]
  },
  {
   "cell_type": "code",
   "execution_count": 13,
   "metadata": {},
   "outputs": [],
   "source": [
    "#drop chapter_label, sub_chapter_label, question_name\n",
    "data.drop(columns = ['chapter_label', 'sub_chapter_label', 'question_name'], inplace=True)"
   ]
  },
  {
   "cell_type": "code",
   "execution_count": 15,
   "metadata": {},
   "outputs": [],
   "source": [
    "#sort data based on timestamp\n",
    "data = data.sort_values(['start_practice'], ascending=True).reset_index(drop=True)"
   ]
  },
  {
   "cell_type": "code",
   "execution_count": 16,
   "metadata": {},
   "outputs": [],
   "source": [
    "#convert user_id column to the int type user_id column\n",
    "data['user_id.x'] = data['term'].astype(str) + data['user_id.x'].astype(str)\n",
    "data['user_id.x'] = data['user_id.x'].replace(data['user_id.x'].unique(), list(range(data['user_id.x'].nunique())))"
   ]
  },
  {
   "cell_type": "code",
   "execution_count": 19,
   "metadata": {},
   "outputs": [
    {
     "data": {
      "text/plain": [
       "20"
      ]
     },
     "execution_count": 19,
     "metadata": {},
     "output_type": "execute_result"
    }
   ],
   "source": [
    "#now we can drop end practice\n",
    "data.drop(columns=['end_practice'], inplace=True)\n",
    "data = data.sort_values(['start_practice'], ascending=True).reset_index(drop=True)\n",
    "#replace column q with anwered_correctly\n",
    "data['answered_correctly'] = data['q']\n",
    "data.drop(columns='q', inplace=True)\n",
    "gc.collect()"
   ]
  },
  {
   "cell_type": "code",
   "execution_count": 20,
   "metadata": {},
   "outputs": [
    {
     "data": {
      "text/plain": [
       "20"
      ]
     },
     "execution_count": 20,
     "metadata": {},
     "output_type": "execute_result"
    }
   ],
   "source": [
    "gc.collect()"
   ]
  },
  {
   "cell_type": "code",
   "execution_count": 21,
   "metadata": {},
   "outputs": [],
   "source": [
    "data.fillna(0, inplace=True)"
   ]
  },
  {
   "cell_type": "code",
   "execution_count": 22,
   "metadata": {},
   "outputs": [],
   "source": [
    "n_skill = data['question_id'].nunique() + 1"
   ]
  },
  {
   "cell_type": "code",
   "execution_count": 97,
   "metadata": {},
   "outputs": [],
   "source": [
    "#create dataset class\n",
    "#to prepare it for train and valid sets\n",
    "#here only original features are included\n",
    "#that were present in SAKT: questions and answers\n",
    "class PRACTICE_DATASET(Dataset):\n",
    "    def __init__(self, group, n_skill=data['question_id'].nunique() + 1, min_samples=1, max_seq=500):\n",
    "        super(PRACTICE_DATASET, self).__init__()\n",
    "        self.max_seq = max_seq\n",
    "        self.n_skill = n_skill        \n",
    "        self.user_ids = group.keys()\n",
    "        self.data = group\n",
    "    \n",
    "    def __len__(self):\n",
    "        return len(self.user_ids)\n",
    "\n",
    "    def __getitem__(self, index):\n",
    "        user_id = self.user_ids[index]\n",
    "        q_, qa_ = self.data[user_id]\n",
    "        q_, qa_ = np.array(q_), np.array(qa_)\n",
    "        seq_len = len(q_)\n",
    "\n",
    "        q = np.zeros(self.max_seq, dtype=int)\n",
    "        qa = np.zeros(self.max_seq, dtype=int)\n",
    "        #if more the user interactions are more than self.maxlength (500)\n",
    "        #only the last self.maxlength interactions will be included\n",
    "        #if the number of user interactions would be less than self.maxlength\n",
    "        #the padding would be utilized\n",
    "        if seq_len >= self.max_seq:\n",
    "            q[-self.max_seq:] = q_[-self.max_seq:]\n",
    "            qa[-self.max_seq:] = qa_[-self.max_seq:]\n",
    "        else:\n",
    "            q[-seq_len:] = q_\n",
    "            qa[-seq_len:] = qa_\n",
    "\n",
    "        target_id = q[1:]\n",
    "        label = qa[1:]\n",
    "\n",
    "        x = np.zeros(self.max_seq-1, dtype=int)\n",
    "        x = q[:-1].copy()\n",
    "        x += (qa[:-1] == 1) * self.n_skill\n",
    "\n",
    "        return x, target_id, label"
   ]
  },
  {
   "cell_type": "code",
   "execution_count": 24,
   "metadata": {},
   "outputs": [],
   "source": [
    "NUMERIC_FEATURE =  ['age',\n",
    "                    'exclClassCumGPA',\n",
    "                    'termCreditsGPA',\n",
    "                    'termCreditsNoGPA',\n",
    "                    'highSchoolGPA', \n",
    "                    'majorsCount', 'minorsCount',\n",
    "                    'PREV_TERM_CUM_GPA',\n",
    "                    \"day's_available_flashcards\", \n",
    "                    'days_offset', \n",
    "                    'prev_time_elapsed',\n",
    "                    'time_lag']\n",
    " \n",
    "for f in NUMERIC_FEATURE:\n",
    "  m = data[f].mean()\n",
    "  std = data[f].std()\n",
    "  data[f] = (data[f] - m)/std"
   ]
  },
  {
   "cell_type": "code",
   "execution_count": 98,
   "metadata": {},
   "outputs": [],
   "source": [
    "group = data.groupby(['user_id.x']).apply(lambda r: (\n",
    "                r['question_id'].values,\n",
    "                r['answered_correctly'].values\n",
    "                ))"
   ]
  },
  {
   "cell_type": "code",
   "execution_count": 100,
   "metadata": {},
   "outputs": [],
   "source": [
    "#feed forward network\n",
    "class FFN(nn.Module):\n",
    "    def __init__(self, state_size=200):\n",
    "        super(FFN, self).__init__()\n",
    "        self.state_size = state_size\n",
    "\n",
    "        self.lr1 = nn.Linear(state_size, state_size)\n",
    "        self.relu = nn.ReLU()\n",
    "        self.lr2 = nn.Linear(state_size, state_size)\n",
    "        self.dropout = nn.Dropout(0.2)\n",
    "    \n",
    "    def forward(self, x):\n",
    "        x = self.lr1(x)\n",
    "        x = self.relu(x)\n",
    "        x = self.lr2(x)\n",
    "        return self.dropout(x)\n",
    "    \n",
    "#define mask that would be used in multi head attention layer\n",
    "def future_mask(seq_length):\n",
    "    future_mask = np.triu(np.ones((seq_length, seq_length)), k=1).astype('bool')\n",
    "    return torch.from_numpy(future_mask)\n",
    "\n",
    "#define the SAKT model\n",
    "class SAKTModel(nn.Module):\n",
    "    def __init__(self, n_skill, max_seq=500, embed_dim=128, dropout_rate=0.2):\n",
    "        super(SAKTModel, self).__init__()\n",
    "        self.n_skill = n_skill\n",
    "        self.embed_dim = embed_dim\n",
    "\n",
    "        #embeddings\n",
    "        self.embedding = nn.Embedding(2*n_skill+1, embed_dim) \n",
    "        self.pos_embedding = nn.Embedding(max_seq-1, embed_dim)\n",
    "        self.e_embedding = nn.Embedding(n_skill+1, embed_dim)\n",
    "\n",
    "        self.multi_att = nn.MultiheadAttention(embed_dim=embed_dim, num_heads=8, dropout=dropout_rate)\n",
    "\n",
    "        self.dropout = nn.Dropout(dropout_rate)\n",
    "        self.layer_normal = nn.LayerNorm(embed_dim) \n",
    "\n",
    "        self.ffn = FFN(embed_dim)\n",
    "        self.pred = nn.Linear(embed_dim, 1)\n",
    "    \n",
    "    def forward(self, x, question_ids):\n",
    "        device = x.device        \n",
    "        x = self.embedding(x)\n",
    "        pos_id = torch.arange(x.size(1)).unsqueeze(0).to(device)\n",
    "\n",
    "        pos_x = self.pos_embedding(pos_id)\n",
    "        x = x + pos_x\n",
    "\n",
    "        e = self.e_embedding(question_ids)\n",
    "\n",
    "        x = x.permute(1, 0, 2) \n",
    "        e = e.permute(1, 0, 2)\n",
    "        att_mask = future_mask(x.size(0)).to(device)\n",
    "        att_output, att_weight = self.multi_att(e, x, x, attn_mask=att_mask)\n",
    "        att_output = self.layer_normal(att_output + e)\n",
    "        att_output = att_output.permute(1, 0, 2) \n",
    "\n",
    "        x = self.ffn(att_output)\n",
    "        x = self.layer_normal(x + att_output)\n",
    "        x = self.pred(x)\n",
    "\n",
    "        return x.squeeze(-1)"
   ]
  },
  {
   "cell_type": "code",
   "execution_count": 101,
   "metadata": {},
   "outputs": [],
   "source": [
    "#in case the validation loss would \n",
    "#not improve for $patienc$ consecutive \n",
    "#epochs the training would be terminated\n",
    "patience = 5"
   ]
  },
  {
   "cell_type": "code",
   "execution_count": 107,
   "metadata": {},
   "outputs": [
    {
     "name": "stderr",
     "output_type": "stream",
     "text": [
      "\r",
      "  0%|          | 0/11 [00:00<?, ?it/s]"
     ]
    },
    {
     "name": "stdout",
     "output_type": "stream",
     "text": [
      "----------------------------------------------------------------------------\n"
     ]
    },
    {
     "name": "stderr",
     "output_type": "stream",
     "text": [
      "loss - 0.6590: 100%|██████████| 11/11 [00:59<00:00,  5.41s/it]\n",
      "  0%|          | 0/2 [00:00<?, ?it/s]"
     ]
    },
    {
     "name": "stdout",
     "output_type": "stream",
     "text": [
      "epoch - 0 train_loss - 0.69 acc - 0.573 auc - 0.585\n"
     ]
    },
    {
     "name": "stderr",
     "output_type": "stream",
     "text": [
      "valid loss - 0.6470: 100%|██████████| 2/2 [00:02<00:00,  1.27s/it]\n",
      "  0%|          | 0/11 [00:00<?, ?it/s]"
     ]
    },
    {
     "name": "stdout",
     "output_type": "stream",
     "text": [
      "epoch - 0 val_loss - 0.64 val acc - 0.633 val auc - 0.661\n"
     ]
    },
    {
     "name": "stderr",
     "output_type": "stream",
     "text": [
      "loss - 0.6242: 100%|██████████| 11/11 [00:35<00:00,  3.23s/it]\n",
      "  0%|          | 0/2 [00:00<?, ?it/s]"
     ]
    },
    {
     "name": "stdout",
     "output_type": "stream",
     "text": [
      "epoch - 1 train_loss - 0.65 acc - 0.622 auc - 0.661\n"
     ]
    },
    {
     "name": "stderr",
     "output_type": "stream",
     "text": [
      "valid loss - 0.6288: 100%|██████████| 2/2 [00:02<00:00,  1.20s/it]\n",
      "  0%|          | 0/11 [00:00<?, ?it/s]"
     ]
    },
    {
     "name": "stdout",
     "output_type": "stream",
     "text": [
      "epoch - 1 val_loss - 0.62 val acc - 0.671 val auc - 0.723\n"
     ]
    },
    {
     "name": "stderr",
     "output_type": "stream",
     "text": [
      "loss - 0.6103: 100%|██████████| 11/11 [00:35<00:00,  3.21s/it]\n",
      "  0%|          | 0/2 [00:00<?, ?it/s]"
     ]
    },
    {
     "name": "stdout",
     "output_type": "stream",
     "text": [
      "epoch - 2 train_loss - 0.62 acc - 0.657 auc - 0.712\n"
     ]
    },
    {
     "name": "stderr",
     "output_type": "stream",
     "text": [
      "valid loss - 0.5867: 100%|██████████| 2/2 [00:02<00:00,  1.26s/it]\n",
      "  0%|          | 0/11 [00:00<?, ?it/s]"
     ]
    },
    {
     "name": "stdout",
     "output_type": "stream",
     "text": [
      "epoch - 2 val_loss - 0.58 val acc - 0.704 val auc - 0.757\n"
     ]
    },
    {
     "name": "stderr",
     "output_type": "stream",
     "text": [
      "loss - 0.5789: 100%|██████████| 11/11 [00:35<00:00,  3.20s/it]\n",
      "  0%|          | 0/2 [00:00<?, ?it/s]"
     ]
    },
    {
     "name": "stdout",
     "output_type": "stream",
     "text": [
      "epoch - 3 train_loss - 0.59 acc - 0.687 auc - 0.746\n"
     ]
    },
    {
     "name": "stderr",
     "output_type": "stream",
     "text": [
      "valid loss - 0.5517: 100%|██████████| 2/2 [00:02<00:00,  1.20s/it]\n",
      "  0%|          | 0/11 [00:00<?, ?it/s]"
     ]
    },
    {
     "name": "stdout",
     "output_type": "stream",
     "text": [
      "epoch - 3 val_loss - 0.55 val acc - 0.727 val auc - 0.785\n"
     ]
    },
    {
     "name": "stderr",
     "output_type": "stream",
     "text": [
      "loss - 0.5554: 100%|██████████| 11/11 [00:35<00:00,  3.20s/it]\n",
      "  0%|          | 0/2 [00:00<?, ?it/s]"
     ]
    },
    {
     "name": "stdout",
     "output_type": "stream",
     "text": [
      "epoch - 4 train_loss - 0.57 acc - 0.707 auc - 0.772\n"
     ]
    },
    {
     "name": "stderr",
     "output_type": "stream",
     "text": [
      "valid loss - 0.5421: 100%|██████████| 2/2 [00:02<00:00,  1.23s/it]\n",
      "  0%|          | 0/11 [00:00<?, ?it/s]"
     ]
    },
    {
     "name": "stdout",
     "output_type": "stream",
     "text": [
      "epoch - 4 val_loss - 0.54 val acc - 0.741 val auc - 0.802\n"
     ]
    },
    {
     "name": "stderr",
     "output_type": "stream",
     "text": [
      "loss - 0.5400: 100%|██████████| 11/11 [00:35<00:00,  3.25s/it]\n",
      "  0%|          | 0/2 [00:00<?, ?it/s]"
     ]
    },
    {
     "name": "stdout",
     "output_type": "stream",
     "text": [
      "epoch - 5 train_loss - 0.55 acc - 0.724 auc - 0.792\n"
     ]
    },
    {
     "name": "stderr",
     "output_type": "stream",
     "text": [
      "valid loss - 0.5251: 100%|██████████| 2/2 [00:02<00:00,  1.38s/it]\n",
      "  0%|          | 0/11 [00:00<?, ?it/s]"
     ]
    },
    {
     "name": "stdout",
     "output_type": "stream",
     "text": [
      "epoch - 5 val_loss - 0.52 val acc - 0.746 val auc - 0.812\n"
     ]
    },
    {
     "name": "stderr",
     "output_type": "stream",
     "text": [
      "loss - 0.5321: 100%|██████████| 11/11 [00:35<00:00,  3.23s/it]\n",
      "  0%|          | 0/2 [00:00<?, ?it/s]"
     ]
    },
    {
     "name": "stdout",
     "output_type": "stream",
     "text": [
      "epoch - 6 train_loss - 0.53 acc - 0.735 auc - 0.805\n"
     ]
    },
    {
     "name": "stderr",
     "output_type": "stream",
     "text": [
      "valid loss - 0.5011: 100%|██████████| 2/2 [00:02<00:00,  1.26s/it]\n",
      "  0%|          | 0/11 [00:00<?, ?it/s]"
     ]
    },
    {
     "name": "stdout",
     "output_type": "stream",
     "text": [
      "epoch - 6 val_loss - 0.51 val acc - 0.750 val auc - 0.818\n"
     ]
    },
    {
     "name": "stderr",
     "output_type": "stream",
     "text": [
      "loss - 0.5297: 100%|██████████| 11/11 [00:35<00:00,  3.23s/it]\n",
      "  0%|          | 0/2 [00:00<?, ?it/s]"
     ]
    },
    {
     "name": "stdout",
     "output_type": "stream",
     "text": [
      "epoch - 7 train_loss - 0.52 acc - 0.744 auc - 0.815\n"
     ]
    },
    {
     "name": "stderr",
     "output_type": "stream",
     "text": [
      "valid loss - 0.5003: 100%|██████████| 2/2 [00:02<00:00,  1.23s/it]\n",
      "  0%|          | 0/11 [00:00<?, ?it/s]"
     ]
    },
    {
     "name": "stdout",
     "output_type": "stream",
     "text": [
      "epoch - 7 val_loss - 0.51 val acc - 0.755 val auc - 0.822\n"
     ]
    },
    {
     "name": "stderr",
     "output_type": "stream",
     "text": [
      "loss - 0.5025: 100%|██████████| 11/11 [00:35<00:00,  3.22s/it]\n",
      "  0%|          | 0/2 [00:00<?, ?it/s]"
     ]
    },
    {
     "name": "stdout",
     "output_type": "stream",
     "text": [
      "epoch - 8 train_loss - 0.51 acc - 0.750 auc - 0.821\n"
     ]
    },
    {
     "name": "stderr",
     "output_type": "stream",
     "text": [
      "valid loss - 0.5024: 100%|██████████| 2/2 [00:02<00:00,  1.26s/it]\n",
      "  0%|          | 0/11 [00:00<?, ?it/s]"
     ]
    },
    {
     "name": "stdout",
     "output_type": "stream",
     "text": [
      "epoch - 8 val_loss - 0.50 val acc - 0.757 val auc - 0.825\n"
     ]
    },
    {
     "name": "stderr",
     "output_type": "stream",
     "text": [
      "loss - 0.5057: 100%|██████████| 11/11 [00:35<00:00,  3.26s/it]\n",
      "  0%|          | 0/2 [00:00<?, ?it/s]"
     ]
    },
    {
     "name": "stdout",
     "output_type": "stream",
     "text": [
      "epoch - 9 train_loss - 0.51 acc - 0.754 auc - 0.826\n"
     ]
    },
    {
     "name": "stderr",
     "output_type": "stream",
     "text": [
      "valid loss - 0.4739: 100%|██████████| 2/2 [00:02<00:00,  1.22s/it]\n",
      "  0%|          | 0/11 [00:00<?, ?it/s]"
     ]
    },
    {
     "name": "stdout",
     "output_type": "stream",
     "text": [
      "epoch - 9 val_loss - 0.49 val acc - 0.758 val auc - 0.827\n"
     ]
    },
    {
     "name": "stderr",
     "output_type": "stream",
     "text": [
      "loss - 0.4887: 100%|██████████| 11/11 [00:40<00:00,  3.66s/it]\n",
      "  0%|          | 0/2 [00:00<?, ?it/s]"
     ]
    },
    {
     "name": "stdout",
     "output_type": "stream",
     "text": [
      "epoch - 10 train_loss - 0.50 acc - 0.758 auc - 0.830\n"
     ]
    },
    {
     "name": "stderr",
     "output_type": "stream",
     "text": [
      "valid loss - 0.5296: 100%|██████████| 2/2 [00:02<00:00,  1.27s/it]\n",
      "  0%|          | 0/11 [00:00<?, ?it/s]"
     ]
    },
    {
     "name": "stdout",
     "output_type": "stream",
     "text": [
      "epoch - 10 val_loss - 0.51 val acc - 0.760 val auc - 0.828\n"
     ]
    },
    {
     "name": "stderr",
     "output_type": "stream",
     "text": [
      "loss - 0.4801: 100%|██████████| 11/11 [00:35<00:00,  3.21s/it]\n",
      "  0%|          | 0/2 [00:00<?, ?it/s]"
     ]
    },
    {
     "name": "stdout",
     "output_type": "stream",
     "text": [
      "epoch - 11 train_loss - 0.50 acc - 0.761 auc - 0.833\n"
     ]
    },
    {
     "name": "stderr",
     "output_type": "stream",
     "text": [
      "valid loss - 0.4885: 100%|██████████| 2/2 [00:02<00:00,  1.25s/it]\n",
      "  0%|          | 0/11 [00:00<?, ?it/s]"
     ]
    },
    {
     "name": "stdout",
     "output_type": "stream",
     "text": [
      "epoch - 11 val_loss - 0.50 val acc - 0.759 val auc - 0.829\n"
     ]
    },
    {
     "name": "stderr",
     "output_type": "stream",
     "text": [
      "loss - 0.4979: 100%|██████████| 11/11 [00:35<00:00,  3.20s/it]\n",
      "  0%|          | 0/2 [00:00<?, ?it/s]"
     ]
    },
    {
     "name": "stdout",
     "output_type": "stream",
     "text": [
      "epoch - 12 train_loss - 0.49 acc - 0.763 auc - 0.836\n"
     ]
    },
    {
     "name": "stderr",
     "output_type": "stream",
     "text": [
      "valid loss - 0.5204: 100%|██████████| 2/2 [00:02<00:00,  1.23s/it]\n",
      "  0%|          | 0/11 [00:00<?, ?it/s]"
     ]
    },
    {
     "name": "stdout",
     "output_type": "stream",
     "text": [
      "epoch - 12 val_loss - 0.50 val acc - 0.761 val auc - 0.830\n"
     ]
    },
    {
     "name": "stderr",
     "output_type": "stream",
     "text": [
      "loss - 0.4967: 100%|██████████| 11/11 [00:35<00:00,  3.20s/it]\n",
      "  0%|          | 0/2 [00:00<?, ?it/s]"
     ]
    },
    {
     "name": "stdout",
     "output_type": "stream",
     "text": [
      "epoch - 13 train_loss - 0.49 acc - 0.765 auc - 0.838\n"
     ]
    },
    {
     "name": "stderr",
     "output_type": "stream",
     "text": [
      "valid loss - 0.4950: 100%|██████████| 2/2 [00:02<00:00,  1.25s/it]\n",
      "  0%|          | 0/11 [00:00<?, ?it/s]"
     ]
    },
    {
     "name": "stdout",
     "output_type": "stream",
     "text": [
      "epoch - 13 val_loss - 0.50 val acc - 0.760 val auc - 0.831\n"
     ]
    },
    {
     "name": "stderr",
     "output_type": "stream",
     "text": [
      "loss - 0.4959: 100%|██████████| 11/11 [00:36<00:00,  3.28s/it]\n",
      "  0%|          | 0/2 [00:00<?, ?it/s]"
     ]
    },
    {
     "name": "stdout",
     "output_type": "stream",
     "text": [
      "epoch - 14 train_loss - 0.49 acc - 0.766 auc - 0.840\n"
     ]
    },
    {
     "name": "stderr",
     "output_type": "stream",
     "text": [
      "valid loss - 0.4707: 100%|██████████| 2/2 [00:02<00:00,  1.17s/it]\n",
      "  0%|          | 0/11 [00:00<?, ?it/s]"
     ]
    },
    {
     "name": "stdout",
     "output_type": "stream",
     "text": [
      "epoch - 14 val_loss - 0.49 val acc - 0.760 val auc - 0.831\n"
     ]
    },
    {
     "name": "stderr",
     "output_type": "stream",
     "text": [
      "loss - 0.4786: 100%|██████████| 11/11 [00:35<00:00,  3.27s/it]\n",
      "  0%|          | 0/2 [00:00<?, ?it/s]"
     ]
    },
    {
     "name": "stdout",
     "output_type": "stream",
     "text": [
      "epoch - 15 train_loss - 0.49 acc - 0.768 auc - 0.842\n"
     ]
    },
    {
     "name": "stderr",
     "output_type": "stream",
     "text": [
      "valid loss - 0.5054: 100%|██████████| 2/2 [00:02<00:00,  1.17s/it]\n",
      "  0%|          | 0/11 [00:00<?, ?it/s]"
     ]
    },
    {
     "name": "stdout",
     "output_type": "stream",
     "text": [
      "epoch - 15 val_loss - 0.50 val acc - 0.762 val auc - 0.831\n"
     ]
    },
    {
     "name": "stderr",
     "output_type": "stream",
     "text": [
      "loss - 0.4767: 100%|██████████| 11/11 [00:56<00:00,  5.13s/it]\n",
      "  0%|          | 0/2 [00:00<?, ?it/s]"
     ]
    },
    {
     "name": "stdout",
     "output_type": "stream",
     "text": [
      "epoch - 16 train_loss - 0.48 acc - 0.768 auc - 0.843\n"
     ]
    },
    {
     "name": "stderr",
     "output_type": "stream",
     "text": [
      "valid loss - 0.4996: 100%|██████████| 2/2 [00:02<00:00,  1.25s/it]\n",
      "  0%|          | 0/11 [00:00<?, ?it/s]"
     ]
    },
    {
     "name": "stdout",
     "output_type": "stream",
     "text": [
      "epoch - 16 val_loss - 0.50 val acc - 0.761 val auc - 0.831\n"
     ]
    },
    {
     "name": "stderr",
     "output_type": "stream",
     "text": [
      "loss - 0.4698: 100%|██████████| 11/11 [00:35<00:00,  3.26s/it]\n",
      "  0%|          | 0/2 [00:00<?, ?it/s]"
     ]
    },
    {
     "name": "stdout",
     "output_type": "stream",
     "text": [
      "epoch - 17 train_loss - 0.48 acc - 0.770 auc - 0.844\n"
     ]
    },
    {
     "name": "stderr",
     "output_type": "stream",
     "text": [
      "valid loss - 0.4779: 100%|██████████| 2/2 [00:02<00:00,  1.25s/it]\n",
      "  0%|          | 0/11 [00:00<?, ?it/s]"
     ]
    },
    {
     "name": "stdout",
     "output_type": "stream",
     "text": [
      "epoch - 17 val_loss - 0.49 val acc - 0.762 val auc - 0.833\n"
     ]
    },
    {
     "name": "stderr",
     "output_type": "stream",
     "text": [
      "loss - 0.4661: 100%|██████████| 11/11 [00:35<00:00,  3.24s/it]\n",
      "  0%|          | 0/2 [00:00<?, ?it/s]"
     ]
    },
    {
     "name": "stdout",
     "output_type": "stream",
     "text": [
      "epoch - 18 train_loss - 0.48 acc - 0.771 auc - 0.847\n"
     ]
    },
    {
     "name": "stderr",
     "output_type": "stream",
     "text": [
      "valid loss - 0.4963: 100%|██████████| 2/2 [00:02<00:00,  1.22s/it]\n",
      "  0%|          | 0/11 [00:00<?, ?it/s]"
     ]
    },
    {
     "name": "stdout",
     "output_type": "stream",
     "text": [
      "epoch - 18 val_loss - 0.49 val acc - 0.762 val auc - 0.834\n"
     ]
    },
    {
     "name": "stderr",
     "output_type": "stream",
     "text": [
      "loss - 0.4674: 100%|██████████| 11/11 [00:35<00:00,  3.24s/it]\n",
      "  0%|          | 0/2 [00:00<?, ?it/s]"
     ]
    },
    {
     "name": "stdout",
     "output_type": "stream",
     "text": [
      "epoch - 19 train_loss - 0.48 acc - 0.773 auc - 0.848\n"
     ]
    },
    {
     "name": "stderr",
     "output_type": "stream",
     "text": [
      "valid loss - 0.4902: 100%|██████████| 2/2 [00:02<00:00,  1.15s/it]\n",
      "  0%|          | 0/11 [00:00<?, ?it/s]"
     ]
    },
    {
     "name": "stdout",
     "output_type": "stream",
     "text": [
      "epoch - 19 val_loss - 0.49 val acc - 0.764 val auc - 0.835\n"
     ]
    },
    {
     "name": "stderr",
     "output_type": "stream",
     "text": [
      "loss - 0.4861: 100%|██████████| 11/11 [00:35<00:00,  3.24s/it]\n",
      "  0%|          | 0/2 [00:00<?, ?it/s]"
     ]
    },
    {
     "name": "stdout",
     "output_type": "stream",
     "text": [
      "epoch - 20 train_loss - 0.47 acc - 0.775 auc - 0.850\n"
     ]
    },
    {
     "name": "stderr",
     "output_type": "stream",
     "text": [
      "valid loss - 0.4586: 100%|██████████| 2/2 [00:02<00:00,  1.23s/it]\n",
      "  0%|          | 0/11 [00:00<?, ?it/s]"
     ]
    },
    {
     "name": "stdout",
     "output_type": "stream",
     "text": [
      "epoch - 20 val_loss - 0.48 val acc - 0.765 val auc - 0.834\n"
     ]
    },
    {
     "name": "stderr",
     "output_type": "stream",
     "text": [
      "loss - 0.4726: 100%|██████████| 11/11 [00:35<00:00,  3.22s/it]\n",
      "  0%|          | 0/2 [00:00<?, ?it/s]"
     ]
    },
    {
     "name": "stdout",
     "output_type": "stream",
     "text": [
      "epoch - 21 train_loss - 0.47 acc - 0.776 auc - 0.851\n"
     ]
    },
    {
     "name": "stderr",
     "output_type": "stream",
     "text": [
      "valid loss - 0.5067: 100%|██████████| 2/2 [00:02<00:00,  1.22s/it]\n",
      "  0%|          | 0/11 [00:00<?, ?it/s]"
     ]
    },
    {
     "name": "stdout",
     "output_type": "stream",
     "text": [
      "epoch - 21 val_loss - 0.50 val acc - 0.764 val auc - 0.835\n"
     ]
    },
    {
     "name": "stderr",
     "output_type": "stream",
     "text": [
      "loss - 0.4619: 100%|██████████| 11/11 [00:35<00:00,  3.22s/it]\n",
      "  0%|          | 0/2 [00:00<?, ?it/s]"
     ]
    },
    {
     "name": "stdout",
     "output_type": "stream",
     "text": [
      "epoch - 22 train_loss - 0.47 acc - 0.778 auc - 0.853\n"
     ]
    },
    {
     "name": "stderr",
     "output_type": "stream",
     "text": [
      "valid loss - 0.4813: 100%|██████████| 2/2 [00:02<00:00,  1.24s/it]\n",
      "  0%|          | 0/11 [00:00<?, ?it/s]"
     ]
    },
    {
     "name": "stdout",
     "output_type": "stream",
     "text": [
      "epoch - 22 val_loss - 0.49 val acc - 0.765 val auc - 0.835\n"
     ]
    },
    {
     "name": "stderr",
     "output_type": "stream",
     "text": [
      "loss - 0.4620: 100%|██████████| 11/11 [00:35<00:00,  3.22s/it]\n",
      "  0%|          | 0/2 [00:00<?, ?it/s]"
     ]
    },
    {
     "name": "stdout",
     "output_type": "stream",
     "text": [
      "epoch - 23 train_loss - 0.47 acc - 0.779 auc - 0.854\n"
     ]
    },
    {
     "name": "stderr",
     "output_type": "stream",
     "text": [
      "valid loss - 0.4788: 100%|██████████| 2/2 [00:02<00:00,  1.23s/it]\n",
      "  0%|          | 0/11 [00:00<?, ?it/s]"
     ]
    },
    {
     "name": "stdout",
     "output_type": "stream",
     "text": [
      "epoch - 23 val_loss - 0.49 val acc - 0.765 val auc - 0.835\n"
     ]
    },
    {
     "name": "stderr",
     "output_type": "stream",
     "text": [
      "loss - 0.4676: 100%|██████████| 11/11 [00:35<00:00,  3.22s/it]\n",
      "  0%|          | 0/2 [00:00<?, ?it/s]"
     ]
    },
    {
     "name": "stdout",
     "output_type": "stream",
     "text": [
      "epoch - 24 train_loss - 0.47 acc - 0.780 auc - 0.856\n"
     ]
    },
    {
     "name": "stderr",
     "output_type": "stream",
     "text": [
      "valid loss - 0.4893: 100%|██████████| 2/2 [00:02<00:00,  1.24s/it]\n",
      "  0%|          | 0/11 [00:00<?, ?it/s]"
     ]
    },
    {
     "name": "stdout",
     "output_type": "stream",
     "text": [
      "epoch - 24 val_loss - 0.49 val acc - 0.764 val auc - 0.835\n"
     ]
    },
    {
     "name": "stderr",
     "output_type": "stream",
     "text": [
      "loss - 0.4649: 100%|██████████| 11/11 [00:35<00:00,  3.21s/it]\n",
      "  0%|          | 0/2 [00:00<?, ?it/s]"
     ]
    },
    {
     "name": "stdout",
     "output_type": "stream",
     "text": [
      "epoch - 25 train_loss - 0.46 acc - 0.781 auc - 0.857\n"
     ]
    },
    {
     "name": "stderr",
     "output_type": "stream",
     "text": [
      "valid loss - 0.5273: 100%|██████████| 2/2 [00:02<00:00,  1.22s/it]\n",
      "  0%|          | 0/2 [00:00<?, ?it/s]"
     ]
    },
    {
     "name": "stdout",
     "output_type": "stream",
     "text": [
      "epoch - 25 val_loss - 0.50 val acc - 0.764 val auc - 0.835\n",
      "Val Loss does not improve for 5 consecutive epochs\n"
     ]
    },
    {
     "name": "stderr",
     "output_type": "stream",
     "text": [
      "valid loss - 0.5008: 100%|██████████| 2/2 [00:02<00:00,  1.23s/it]\n",
      "  0%|          | 0/11 [00:00<?, ?it/s]"
     ]
    },
    {
     "name": "stdout",
     "output_type": "stream",
     "text": [
      "epoch - 25 test_loss - 0.50 acc - 0.758 auc - 0.833\n"
     ]
    },
    {
     "name": "stderr",
     "output_type": "stream",
     "text": [
      "valid loss - 0.4698: 100%|██████████| 11/11 [00:10<00:00,  1.01it/s]\n",
      "  0%|          | 0/12 [00:00<?, ?it/s]"
     ]
    },
    {
     "name": "stdout",
     "output_type": "stream",
     "text": [
      "----------------------------------------------------------------------------\n"
     ]
    },
    {
     "name": "stderr",
     "output_type": "stream",
     "text": [
      "loss - 0.6948: 100%|██████████| 12/12 [00:35<00:00,  2.96s/it]\n",
      "  0%|          | 0/2 [00:00<?, ?it/s]"
     ]
    },
    {
     "name": "stdout",
     "output_type": "stream",
     "text": [
      "epoch - 0 train_loss - 0.71 acc - 0.540 auc - 0.532\n"
     ]
    },
    {
     "name": "stderr",
     "output_type": "stream",
     "text": [
      "valid loss - 0.6729: 100%|██████████| 2/2 [00:02<00:00,  1.17s/it]\n",
      "  0%|          | 0/12 [00:00<?, ?it/s]"
     ]
    },
    {
     "name": "stdout",
     "output_type": "stream",
     "text": [
      "epoch - 0 val_loss - 0.67 val acc - 0.590 val auc - 0.615\n"
     ]
    },
    {
     "name": "stderr",
     "output_type": "stream",
     "text": [
      "loss - 0.5891: 100%|██████████| 12/12 [00:35<00:00,  2.94s/it]\n",
      "  0%|          | 0/2 [00:00<?, ?it/s]"
     ]
    },
    {
     "name": "stdout",
     "output_type": "stream",
     "text": [
      "epoch - 1 train_loss - 0.66 acc - 0.599 auc - 0.627\n"
     ]
    },
    {
     "name": "stderr",
     "output_type": "stream",
     "text": [
      "valid loss - 0.6379: 100%|██████████| 2/2 [00:02<00:00,  1.21s/it]\n",
      "  0%|          | 0/12 [00:00<?, ?it/s]"
     ]
    },
    {
     "name": "stdout",
     "output_type": "stream",
     "text": [
      "epoch - 1 val_loss - 0.63 val acc - 0.642 val auc - 0.690\n"
     ]
    },
    {
     "name": "stderr",
     "output_type": "stream",
     "text": [
      "loss - 0.4195: 100%|██████████| 12/12 [00:35<00:00,  2.95s/it]\n",
      "  0%|          | 0/2 [00:00<?, ?it/s]"
     ]
    },
    {
     "name": "stdout",
     "output_type": "stream",
     "text": [
      "epoch - 2 train_loss - 0.62 acc - 0.637 auc - 0.685\n"
     ]
    },
    {
     "name": "stderr",
     "output_type": "stream",
     "text": [
      "valid loss - 0.6138: 100%|██████████| 2/2 [00:02<00:00,  1.22s/it]\n",
      "  0%|          | 0/12 [00:00<?, ?it/s]"
     ]
    },
    {
     "name": "stdout",
     "output_type": "stream",
     "text": [
      "epoch - 2 val_loss - 0.61 val acc - 0.673 val auc - 0.731\n"
     ]
    },
    {
     "name": "stderr",
     "output_type": "stream",
     "text": [
      "loss - 0.6227: 100%|██████████| 12/12 [00:35<00:00,  2.94s/it]\n",
      "  0%|          | 0/2 [00:00<?, ?it/s]"
     ]
    },
    {
     "name": "stdout",
     "output_type": "stream",
     "text": [
      "epoch - 3 train_loss - 0.62 acc - 0.660 auc - 0.715\n"
     ]
    },
    {
     "name": "stderr",
     "output_type": "stream",
     "text": [
      "valid loss - 0.6014: 100%|██████████| 2/2 [00:02<00:00,  1.21s/it]\n",
      "  0%|          | 0/12 [00:00<?, ?it/s]"
     ]
    },
    {
     "name": "stdout",
     "output_type": "stream",
     "text": [
      "epoch - 3 val_loss - 0.59 val acc - 0.694 val auc - 0.751\n"
     ]
    },
    {
     "name": "stderr",
     "output_type": "stream",
     "text": [
      "loss - 0.6849: 100%|██████████| 12/12 [00:35<00:00,  2.94s/it]\n",
      "  0%|          | 0/2 [00:00<?, ?it/s]"
     ]
    },
    {
     "name": "stdout",
     "output_type": "stream",
     "text": [
      "epoch - 4 train_loss - 0.61 acc - 0.679 auc - 0.740\n"
     ]
    },
    {
     "name": "stderr",
     "output_type": "stream",
     "text": [
      "valid loss - 0.5791: 100%|██████████| 2/2 [00:02<00:00,  1.28s/it]\n",
      "  0%|          | 0/12 [00:00<?, ?it/s]"
     ]
    },
    {
     "name": "stdout",
     "output_type": "stream",
     "text": [
      "epoch - 4 val_loss - 0.57 val acc - 0.712 val auc - 0.773\n"
     ]
    },
    {
     "name": "stderr",
     "output_type": "stream",
     "text": [
      "loss - 0.4990: 100%|██████████| 12/12 [00:55<00:00,  4.61s/it]\n",
      "  0%|          | 0/2 [00:00<?, ?it/s]"
     ]
    },
    {
     "name": "stdout",
     "output_type": "stream",
     "text": [
      "epoch - 5 train_loss - 0.57 acc - 0.700 auc - 0.763\n"
     ]
    },
    {
     "name": "stderr",
     "output_type": "stream",
     "text": [
      "valid loss - 0.5409: 100%|██████████| 2/2 [00:02<00:00,  1.19s/it]\n",
      "  0%|          | 0/12 [00:00<?, ?it/s]"
     ]
    },
    {
     "name": "stdout",
     "output_type": "stream",
     "text": [
      "epoch - 5 val_loss - 0.55 val acc - 0.721 val auc - 0.785\n"
     ]
    },
    {
     "name": "stderr",
     "output_type": "stream",
     "text": [
      "loss - 0.5886: 100%|██████████| 12/12 [00:35<00:00,  2.95s/it]\n",
      "  0%|          | 0/2 [00:00<?, ?it/s]"
     ]
    },
    {
     "name": "stdout",
     "output_type": "stream",
     "text": [
      "epoch - 6 train_loss - 0.57 acc - 0.711 auc - 0.777\n"
     ]
    },
    {
     "name": "stderr",
     "output_type": "stream",
     "text": [
      "valid loss - 0.5541: 100%|██████████| 2/2 [00:02<00:00,  1.31s/it]\n",
      "  0%|          | 0/12 [00:00<?, ?it/s]"
     ]
    },
    {
     "name": "stdout",
     "output_type": "stream",
     "text": [
      "epoch - 6 val_loss - 0.55 val acc - 0.730 val auc - 0.793\n"
     ]
    },
    {
     "name": "stderr",
     "output_type": "stream",
     "text": [
      "loss - 0.5717: 100%|██████████| 12/12 [00:35<00:00,  2.95s/it]\n",
      "  0%|          | 0/2 [00:00<?, ?it/s]"
     ]
    },
    {
     "name": "stdout",
     "output_type": "stream",
     "text": [
      "epoch - 7 train_loss - 0.55 acc - 0.722 auc - 0.789\n"
     ]
    },
    {
     "name": "stderr",
     "output_type": "stream",
     "text": [
      "valid loss - 0.5362: 100%|██████████| 2/2 [00:02<00:00,  1.19s/it]\n",
      "  0%|          | 0/12 [00:00<?, ?it/s]"
     ]
    },
    {
     "name": "stdout",
     "output_type": "stream",
     "text": [
      "epoch - 7 val_loss - 0.54 val acc - 0.736 val auc - 0.801\n"
     ]
    },
    {
     "name": "stderr",
     "output_type": "stream",
     "text": [
      "loss - 0.5415: 100%|██████████| 12/12 [00:35<00:00,  2.95s/it]\n",
      "  0%|          | 0/2 [00:00<?, ?it/s]"
     ]
    },
    {
     "name": "stdout",
     "output_type": "stream",
     "text": [
      "epoch - 8 train_loss - 0.54 acc - 0.729 auc - 0.797\n"
     ]
    },
    {
     "name": "stderr",
     "output_type": "stream",
     "text": [
      "valid loss - 0.5097: 100%|██████████| 2/2 [00:02<00:00,  1.20s/it]\n",
      "  0%|          | 0/12 [00:00<?, ?it/s]"
     ]
    },
    {
     "name": "stdout",
     "output_type": "stream",
     "text": [
      "epoch - 8 val_loss - 0.53 val acc - 0.741 val auc - 0.805\n"
     ]
    },
    {
     "name": "stderr",
     "output_type": "stream",
     "text": [
      "loss - 0.6132: 100%|██████████| 12/12 [00:35<00:00,  2.96s/it]\n",
      "  0%|          | 0/2 [00:00<?, ?it/s]"
     ]
    },
    {
     "name": "stdout",
     "output_type": "stream",
     "text": [
      "epoch - 9 train_loss - 0.54 acc - 0.738 auc - 0.806\n"
     ]
    },
    {
     "name": "stderr",
     "output_type": "stream",
     "text": [
      "valid loss - 0.5320: 100%|██████████| 2/2 [00:02<00:00,  1.21s/it]\n",
      "  0%|          | 0/12 [00:00<?, ?it/s]"
     ]
    },
    {
     "name": "stdout",
     "output_type": "stream",
     "text": [
      "epoch - 9 val_loss - 0.53 val acc - 0.744 val auc - 0.810\n"
     ]
    },
    {
     "name": "stderr",
     "output_type": "stream",
     "text": [
      "loss - 0.5150: 100%|██████████| 12/12 [00:35<00:00,  2.96s/it]\n",
      "  0%|          | 0/2 [00:00<?, ?it/s]"
     ]
    },
    {
     "name": "stdout",
     "output_type": "stream",
     "text": [
      "epoch - 10 train_loss - 0.53 acc - 0.741 auc - 0.811\n"
     ]
    },
    {
     "name": "stderr",
     "output_type": "stream",
     "text": [
      "valid loss - 0.5113: 100%|██████████| 2/2 [00:02<00:00,  1.19s/it]\n",
      "  0%|          | 0/12 [00:00<?, ?it/s]"
     ]
    },
    {
     "name": "stdout",
     "output_type": "stream",
     "text": [
      "epoch - 10 val_loss - 0.52 val acc - 0.747 val auc - 0.812\n"
     ]
    },
    {
     "name": "stderr",
     "output_type": "stream",
     "text": [
      "loss - 0.3133: 100%|██████████| 12/12 [00:35<00:00,  2.96s/it]\n",
      "  0%|          | 0/2 [00:00<?, ?it/s]"
     ]
    },
    {
     "name": "stdout",
     "output_type": "stream",
     "text": [
      "epoch - 11 train_loss - 0.50 acc - 0.746 auc - 0.816\n"
     ]
    },
    {
     "name": "stderr",
     "output_type": "stream",
     "text": [
      "valid loss - 0.5270: 100%|██████████| 2/2 [00:02<00:00,  1.25s/it]\n",
      "  0%|          | 0/12 [00:00<?, ?it/s]"
     ]
    },
    {
     "name": "stdout",
     "output_type": "stream",
     "text": [
      "epoch - 11 val_loss - 0.52 val acc - 0.747 val auc - 0.815\n"
     ]
    },
    {
     "name": "stderr",
     "output_type": "stream",
     "text": [
      "loss - 0.5137: 100%|██████████| 12/12 [00:35<00:00,  2.96s/it]\n",
      "  0%|          | 0/2 [00:00<?, ?it/s]"
     ]
    },
    {
     "name": "stdout",
     "output_type": "stream",
     "text": [
      "epoch - 12 train_loss - 0.52 acc - 0.748 auc - 0.818\n"
     ]
    },
    {
     "name": "stderr",
     "output_type": "stream",
     "text": [
      "valid loss - 0.5343: 100%|██████████| 2/2 [00:02<00:00,  1.17s/it]\n",
      "  0%|          | 0/12 [00:00<?, ?it/s]"
     ]
    },
    {
     "name": "stdout",
     "output_type": "stream",
     "text": [
      "epoch - 12 val_loss - 0.53 val acc - 0.748 val auc - 0.813\n"
     ]
    },
    {
     "name": "stderr",
     "output_type": "stream",
     "text": [
      "loss - 0.6058: 100%|██████████| 12/12 [00:35<00:00,  2.95s/it]\n",
      "  0%|          | 0/2 [00:00<?, ?it/s]"
     ]
    },
    {
     "name": "stdout",
     "output_type": "stream",
     "text": [
      "epoch - 13 train_loss - 0.52 acc - 0.753 auc - 0.823\n"
     ]
    },
    {
     "name": "stderr",
     "output_type": "stream",
     "text": [
      "valid loss - 0.5052: 100%|██████████| 2/2 [00:02<00:00,  1.19s/it]\n",
      "  0%|          | 0/12 [00:00<?, ?it/s]"
     ]
    },
    {
     "name": "stdout",
     "output_type": "stream",
     "text": [
      "epoch - 13 val_loss - 0.51 val acc - 0.750 val auc - 0.818\n"
     ]
    },
    {
     "name": "stderr",
     "output_type": "stream",
     "text": [
      "loss - 0.4505: 100%|██████████| 12/12 [00:35<00:00,  2.95s/it]\n",
      "  0%|          | 0/2 [00:00<?, ?it/s]"
     ]
    },
    {
     "name": "stdout",
     "output_type": "stream",
     "text": [
      "epoch - 14 train_loss - 0.50 acc - 0.755 auc - 0.826\n"
     ]
    },
    {
     "name": "stderr",
     "output_type": "stream",
     "text": [
      "valid loss - 0.5006: 100%|██████████| 2/2 [00:02<00:00,  1.18s/it]\n",
      "  0%|          | 0/12 [00:00<?, ?it/s]"
     ]
    },
    {
     "name": "stdout",
     "output_type": "stream",
     "text": [
      "epoch - 14 val_loss - 0.51 val acc - 0.751 val auc - 0.818\n"
     ]
    },
    {
     "name": "stderr",
     "output_type": "stream",
     "text": [
      "loss - 0.5270: 100%|██████████| 12/12 [00:35<00:00,  2.97s/it]\n",
      "  0%|          | 0/2 [00:00<?, ?it/s]"
     ]
    },
    {
     "name": "stdout",
     "output_type": "stream",
     "text": [
      "epoch - 15 train_loss - 0.51 acc - 0.758 auc - 0.829\n"
     ]
    },
    {
     "name": "stderr",
     "output_type": "stream",
     "text": [
      "valid loss - 0.5316: 100%|██████████| 2/2 [00:02<00:00,  1.20s/it]\n",
      "  0%|          | 0/12 [00:00<?, ?it/s]"
     ]
    },
    {
     "name": "stdout",
     "output_type": "stream",
     "text": [
      "epoch - 15 val_loss - 0.52 val acc - 0.750 val auc - 0.820\n"
     ]
    },
    {
     "name": "stderr",
     "output_type": "stream",
     "text": [
      "loss - 0.4561: 100%|██████████| 12/12 [00:35<00:00,  2.96s/it]\n",
      "  0%|          | 0/2 [00:00<?, ?it/s]"
     ]
    },
    {
     "name": "stdout",
     "output_type": "stream",
     "text": [
      "epoch - 16 train_loss - 0.50 acc - 0.758 auc - 0.830\n"
     ]
    },
    {
     "name": "stderr",
     "output_type": "stream",
     "text": [
      "valid loss - 0.5186: 100%|██████████| 2/2 [00:02<00:00,  1.19s/it]\n",
      "  0%|          | 0/12 [00:00<?, ?it/s]"
     ]
    },
    {
     "name": "stdout",
     "output_type": "stream",
     "text": [
      "epoch - 16 val_loss - 0.52 val acc - 0.750 val auc - 0.819\n"
     ]
    },
    {
     "name": "stderr",
     "output_type": "stream",
     "text": [
      "loss - 0.6718: 100%|██████████| 12/12 [00:35<00:00,  2.95s/it]\n",
      "  0%|          | 0/2 [00:00<?, ?it/s]"
     ]
    },
    {
     "name": "stdout",
     "output_type": "stream",
     "text": [
      "epoch - 17 train_loss - 0.51 acc - 0.760 auc - 0.832\n"
     ]
    },
    {
     "name": "stderr",
     "output_type": "stream",
     "text": [
      "valid loss - 0.5381: 100%|██████████| 2/2 [00:02<00:00,  1.36s/it]\n",
      "  0%|          | 0/12 [00:00<?, ?it/s]"
     ]
    },
    {
     "name": "stdout",
     "output_type": "stream",
     "text": [
      "epoch - 17 val_loss - 0.53 val acc - 0.740 val auc - 0.814\n"
     ]
    },
    {
     "name": "stderr",
     "output_type": "stream",
     "text": [
      "loss - 0.2797: 100%|██████████| 12/12 [00:35<00:00,  2.95s/it]\n",
      "  0%|          | 0/2 [00:00<?, ?it/s]"
     ]
    },
    {
     "name": "stdout",
     "output_type": "stream",
     "text": [
      "epoch - 18 train_loss - 0.51 acc - 0.739 auc - 0.812\n"
     ]
    },
    {
     "name": "stderr",
     "output_type": "stream",
     "text": [
      "valid loss - 0.5442: 100%|██████████| 2/2 [00:02<00:00,  1.20s/it]\n",
      "  0%|          | 0/12 [00:00<?, ?it/s]"
     ]
    },
    {
     "name": "stdout",
     "output_type": "stream",
     "text": [
      "epoch - 18 val_loss - 0.53 val acc - 0.745 val auc - 0.821\n"
     ]
    },
    {
     "name": "stderr",
     "output_type": "stream",
     "text": [
      "loss - 0.4859: 100%|██████████| 12/12 [00:35<00:00,  2.96s/it]\n",
      "  0%|          | 0/2 [00:00<?, ?it/s]"
     ]
    },
    {
     "name": "stdout",
     "output_type": "stream",
     "text": [
      "epoch - 19 train_loss - 0.50 acc - 0.755 auc - 0.827\n"
     ]
    },
    {
     "name": "stderr",
     "output_type": "stream",
     "text": [
      "valid loss - 0.5204: 100%|██████████| 2/2 [00:02<00:00,  1.19s/it]\n",
      "  0%|          | 0/2 [00:00<?, ?it/s]"
     ]
    },
    {
     "name": "stdout",
     "output_type": "stream",
     "text": [
      "epoch - 19 val_loss - 0.51 val acc - 0.751 val auc - 0.821\n",
      "Val Loss does not improve for 5 consecutive epochs\n"
     ]
    },
    {
     "name": "stderr",
     "output_type": "stream",
     "text": [
      "valid loss - 0.5199: 100%|██████████| 2/2 [00:02<00:00,  1.19s/it]\n",
      "  0%|          | 0/12 [00:00<?, ?it/s]"
     ]
    },
    {
     "name": "stdout",
     "output_type": "stream",
     "text": [
      "epoch - 19 test_loss - 0.51 acc - 0.752 auc - 0.831\n"
     ]
    },
    {
     "name": "stderr",
     "output_type": "stream",
     "text": [
      "valid loss - 0.6062: 100%|██████████| 12/12 [00:10<00:00,  1.13it/s]\n",
      "  0%|          | 0/12 [00:00<?, ?it/s]"
     ]
    },
    {
     "name": "stdout",
     "output_type": "stream",
     "text": [
      "----------------------------------------------------------------------------\n"
     ]
    },
    {
     "name": "stderr",
     "output_type": "stream",
     "text": [
      "loss - 1.0558: 100%|██████████| 12/12 [00:35<00:00,  2.97s/it]\n",
      "  0%|          | 0/2 [00:00<?, ?it/s]"
     ]
    },
    {
     "name": "stdout",
     "output_type": "stream",
     "text": [
      "epoch - 0 train_loss - 0.73 acc - 0.551 auc - 0.559\n"
     ]
    },
    {
     "name": "stderr",
     "output_type": "stream",
     "text": [
      "valid loss - 0.6613: 100%|██████████| 2/2 [00:03<00:00,  1.61s/it]\n",
      "  0%|          | 0/12 [00:00<?, ?it/s]"
     ]
    },
    {
     "name": "stdout",
     "output_type": "stream",
     "text": [
      "epoch - 0 val_loss - 0.67 val acc - 0.582 val auc - 0.611\n"
     ]
    },
    {
     "name": "stderr",
     "output_type": "stream",
     "text": [
      "loss - 0.7186: 100%|██████████| 12/12 [00:56<00:00,  4.70s/it]\n",
      "  0%|          | 0/2 [00:00<?, ?it/s]"
     ]
    },
    {
     "name": "stdout",
     "output_type": "stream",
     "text": [
      "epoch - 1 train_loss - 0.68 acc - 0.583 auc - 0.619\n"
     ]
    },
    {
     "name": "stderr",
     "output_type": "stream",
     "text": [
      "valid loss - 0.6525: 100%|██████████| 2/2 [00:02<00:00,  1.26s/it]\n",
      "  0%|          | 0/12 [00:00<?, ?it/s]"
     ]
    },
    {
     "name": "stdout",
     "output_type": "stream",
     "text": [
      "epoch - 1 val_loss - 0.65 val acc - 0.610 val auc - 0.651\n"
     ]
    },
    {
     "name": "stderr",
     "output_type": "stream",
     "text": [
      "loss - 0.6368: 100%|██████████| 12/12 [00:35<00:00,  2.97s/it]\n",
      "  0%|          | 0/2 [00:00<?, ?it/s]"
     ]
    },
    {
     "name": "stdout",
     "output_type": "stream",
     "text": [
      "epoch - 2 train_loss - 0.65 acc - 0.605 auc - 0.655\n"
     ]
    },
    {
     "name": "stderr",
     "output_type": "stream",
     "text": [
      "valid loss - 0.6355: 100%|██████████| 2/2 [00:02<00:00,  1.24s/it]\n",
      "  0%|          | 0/12 [00:00<?, ?it/s]"
     ]
    },
    {
     "name": "stdout",
     "output_type": "stream",
     "text": [
      "epoch - 2 val_loss - 0.63 val acc - 0.633 val auc - 0.695\n"
     ]
    },
    {
     "name": "stderr",
     "output_type": "stream",
     "text": [
      "loss - 0.5878: 100%|██████████| 12/12 [00:36<00:00,  3.02s/it]\n",
      "  0%|          | 0/2 [00:00<?, ?it/s]"
     ]
    },
    {
     "name": "stdout",
     "output_type": "stream",
     "text": [
      "epoch - 3 train_loss - 0.63 acc - 0.634 auc - 0.694\n"
     ]
    },
    {
     "name": "stderr",
     "output_type": "stream",
     "text": [
      "valid loss - 0.6032: 100%|██████████| 2/2 [00:02<00:00,  1.24s/it]\n",
      "  0%|          | 0/12 [00:00<?, ?it/s]"
     ]
    },
    {
     "name": "stdout",
     "output_type": "stream",
     "text": [
      "epoch - 3 val_loss - 0.61 val acc - 0.669 val auc - 0.727\n"
     ]
    },
    {
     "name": "stderr",
     "output_type": "stream",
     "text": [
      "loss - 0.6713: 100%|██████████| 12/12 [00:35<00:00,  2.95s/it]\n",
      "  0%|          | 0/2 [00:00<?, ?it/s]"
     ]
    },
    {
     "name": "stdout",
     "output_type": "stream",
     "text": [
      "epoch - 4 train_loss - 0.62 acc - 0.656 auc - 0.717\n"
     ]
    },
    {
     "name": "stderr",
     "output_type": "stream",
     "text": [
      "valid loss - 0.5969: 100%|██████████| 2/2 [00:02<00:00,  1.22s/it]\n",
      "  0%|          | 0/12 [00:00<?, ?it/s]"
     ]
    },
    {
     "name": "stdout",
     "output_type": "stream",
     "text": [
      "epoch - 4 val_loss - 0.60 val acc - 0.687 val auc - 0.744\n"
     ]
    },
    {
     "name": "stderr",
     "output_type": "stream",
     "text": [
      "loss - 0.5333: 100%|██████████| 12/12 [00:35<00:00,  2.94s/it]\n",
      "  0%|          | 0/2 [00:00<?, ?it/s]"
     ]
    },
    {
     "name": "stdout",
     "output_type": "stream",
     "text": [
      "epoch - 5 train_loss - 0.60 acc - 0.677 auc - 0.737\n"
     ]
    },
    {
     "name": "stderr",
     "output_type": "stream",
     "text": [
      "valid loss - 0.5772: 100%|██████████| 2/2 [00:02<00:00,  1.24s/it]\n",
      "  0%|          | 0/12 [00:00<?, ?it/s]"
     ]
    },
    {
     "name": "stdout",
     "output_type": "stream",
     "text": [
      "epoch - 5 val_loss - 0.58 val acc - 0.706 val auc - 0.763\n"
     ]
    },
    {
     "name": "stderr",
     "output_type": "stream",
     "text": [
      "loss - 0.4771: 100%|██████████| 12/12 [00:35<00:00,  2.94s/it]\n",
      "  0%|          | 0/2 [00:00<?, ?it/s]"
     ]
    },
    {
     "name": "stdout",
     "output_type": "stream",
     "text": [
      "epoch - 6 train_loss - 0.58 acc - 0.692 auc - 0.756\n"
     ]
    },
    {
     "name": "stderr",
     "output_type": "stream",
     "text": [
      "valid loss - 0.5537: 100%|██████████| 2/2 [00:02<00:00,  1.21s/it]\n",
      "  0%|          | 0/12 [00:00<?, ?it/s]"
     ]
    },
    {
     "name": "stdout",
     "output_type": "stream",
     "text": [
      "epoch - 6 val_loss - 0.56 val acc - 0.714 val auc - 0.778\n"
     ]
    },
    {
     "name": "stderr",
     "output_type": "stream",
     "text": [
      "loss - 0.6422: 100%|██████████| 12/12 [00:35<00:00,  2.94s/it]\n",
      "  0%|          | 0/2 [00:00<?, ?it/s]"
     ]
    },
    {
     "name": "stdout",
     "output_type": "stream",
     "text": [
      "epoch - 7 train_loss - 0.58 acc - 0.705 auc - 0.771\n"
     ]
    },
    {
     "name": "stderr",
     "output_type": "stream",
     "text": [
      "valid loss - 0.5614: 100%|██████████| 2/2 [00:02<00:00,  1.26s/it]\n",
      "  0%|          | 0/12 [00:00<?, ?it/s]"
     ]
    },
    {
     "name": "stdout",
     "output_type": "stream",
     "text": [
      "epoch - 7 val_loss - 0.56 val acc - 0.725 val auc - 0.786\n"
     ]
    },
    {
     "name": "stderr",
     "output_type": "stream",
     "text": [
      "loss - 0.5911: 100%|██████████| 12/12 [00:35<00:00,  2.97s/it]\n",
      "  0%|          | 0/2 [00:00<?, ?it/s]"
     ]
    },
    {
     "name": "stdout",
     "output_type": "stream",
     "text": [
      "epoch - 8 train_loss - 0.56 acc - 0.714 auc - 0.783\n"
     ]
    },
    {
     "name": "stderr",
     "output_type": "stream",
     "text": [
      "valid loss - 0.5453: 100%|██████████| 2/2 [00:02<00:00,  1.19s/it]\n",
      "  0%|          | 0/12 [00:00<?, ?it/s]"
     ]
    },
    {
     "name": "stdout",
     "output_type": "stream",
     "text": [
      "epoch - 8 val_loss - 0.55 val acc - 0.731 val auc - 0.792\n"
     ]
    },
    {
     "name": "stderr",
     "output_type": "stream",
     "text": [
      "loss - 0.5275: 100%|██████████| 12/12 [00:35<00:00,  2.94s/it]\n",
      "  0%|          | 0/2 [00:00<?, ?it/s]"
     ]
    },
    {
     "name": "stdout",
     "output_type": "stream",
     "text": [
      "epoch - 9 train_loss - 0.55 acc - 0.724 auc - 0.792\n"
     ]
    },
    {
     "name": "stderr",
     "output_type": "stream",
     "text": [
      "valid loss - 0.5619: 100%|██████████| 2/2 [00:02<00:00,  1.32s/it]\n",
      "  0%|          | 0/12 [00:00<?, ?it/s]"
     ]
    },
    {
     "name": "stdout",
     "output_type": "stream",
     "text": [
      "epoch - 9 val_loss - 0.55 val acc - 0.733 val auc - 0.798\n"
     ]
    },
    {
     "name": "stderr",
     "output_type": "stream",
     "text": [
      "loss - 0.6081: 100%|██████████| 12/12 [00:35<00:00,  2.95s/it]\n",
      "  0%|          | 0/2 [00:00<?, ?it/s]"
     ]
    },
    {
     "name": "stdout",
     "output_type": "stream",
     "text": [
      "epoch - 10 train_loss - 0.55 acc - 0.732 auc - 0.801\n"
     ]
    },
    {
     "name": "stderr",
     "output_type": "stream",
     "text": [
      "valid loss - 0.5431: 100%|██████████| 2/2 [00:02<00:00,  1.23s/it]\n",
      "  0%|          | 0/12 [00:00<?, ?it/s]"
     ]
    },
    {
     "name": "stdout",
     "output_type": "stream",
     "text": [
      "epoch - 10 val_loss - 0.54 val acc - 0.740 val auc - 0.803\n"
     ]
    },
    {
     "name": "stderr",
     "output_type": "stream",
     "text": [
      "loss - 0.6349: 100%|██████████| 12/12 [00:38<00:00,  3.20s/it]\n",
      "  0%|          | 0/2 [00:00<?, ?it/s]"
     ]
    },
    {
     "name": "stdout",
     "output_type": "stream",
     "text": [
      "epoch - 11 train_loss - 0.54 acc - 0.739 auc - 0.808\n"
     ]
    },
    {
     "name": "stderr",
     "output_type": "stream",
     "text": [
      "valid loss - 0.5369: 100%|██████████| 2/2 [00:02<00:00,  1.22s/it]\n",
      "  0%|          | 0/12 [00:00<?, ?it/s]"
     ]
    },
    {
     "name": "stdout",
     "output_type": "stream",
     "text": [
      "epoch - 11 val_loss - 0.53 val acc - 0.739 val auc - 0.806\n"
     ]
    },
    {
     "name": "stderr",
     "output_type": "stream",
     "text": [
      "loss - 0.5692: 100%|██████████| 12/12 [00:35<00:00,  2.94s/it]\n",
      "  0%|          | 0/2 [00:00<?, ?it/s]"
     ]
    },
    {
     "name": "stdout",
     "output_type": "stream",
     "text": [
      "epoch - 12 train_loss - 0.53 acc - 0.741 auc - 0.812\n"
     ]
    },
    {
     "name": "stderr",
     "output_type": "stream",
     "text": [
      "valid loss - 0.5275: 100%|██████████| 2/2 [00:02<00:00,  1.21s/it]\n",
      "  0%|          | 0/12 [00:00<?, ?it/s]"
     ]
    },
    {
     "name": "stdout",
     "output_type": "stream",
     "text": [
      "epoch - 12 val_loss - 0.53 val acc - 0.745 val auc - 0.809\n"
     ]
    },
    {
     "name": "stderr",
     "output_type": "stream",
     "text": [
      "loss - 0.4779: 100%|██████████| 12/12 [00:35<00:00,  2.94s/it]\n",
      "  0%|          | 0/2 [00:00<?, ?it/s]"
     ]
    },
    {
     "name": "stdout",
     "output_type": "stream",
     "text": [
      "epoch - 13 train_loss - 0.52 acc - 0.746 auc - 0.817\n"
     ]
    },
    {
     "name": "stderr",
     "output_type": "stream",
     "text": [
      "valid loss - 0.5375: 100%|██████████| 2/2 [00:02<00:00,  1.22s/it]\n",
      "  0%|          | 0/12 [00:00<?, ?it/s]"
     ]
    },
    {
     "name": "stdout",
     "output_type": "stream",
     "text": [
      "epoch - 13 val_loss - 0.53 val acc - 0.747 val auc - 0.812\n"
     ]
    },
    {
     "name": "stderr",
     "output_type": "stream",
     "text": [
      "loss - 0.5226: 100%|██████████| 12/12 [00:35<00:00,  2.94s/it]\n",
      "  0%|          | 0/2 [00:00<?, ?it/s]"
     ]
    },
    {
     "name": "stdout",
     "output_type": "stream",
     "text": [
      "epoch - 14 train_loss - 0.52 acc - 0.750 auc - 0.821\n"
     ]
    },
    {
     "name": "stderr",
     "output_type": "stream",
     "text": [
      "valid loss - 0.5287: 100%|██████████| 2/2 [00:02<00:00,  1.28s/it]\n",
      "  0%|          | 0/12 [00:00<?, ?it/s]"
     ]
    },
    {
     "name": "stdout",
     "output_type": "stream",
     "text": [
      "epoch - 14 val_loss - 0.52 val acc - 0.745 val auc - 0.813\n"
     ]
    },
    {
     "name": "stderr",
     "output_type": "stream",
     "text": [
      "loss - 0.4875: 100%|██████████| 12/12 [00:35<00:00,  2.94s/it]\n",
      "  0%|          | 0/2 [00:00<?, ?it/s]"
     ]
    },
    {
     "name": "stdout",
     "output_type": "stream",
     "text": [
      "epoch - 15 train_loss - 0.51 acc - 0.752 auc - 0.824\n"
     ]
    },
    {
     "name": "stderr",
     "output_type": "stream",
     "text": [
      "valid loss - 0.5280: 100%|██████████| 2/2 [00:02<00:00,  1.25s/it]\n",
      "  0%|          | 0/12 [00:00<?, ?it/s]"
     ]
    },
    {
     "name": "stdout",
     "output_type": "stream",
     "text": [
      "epoch - 15 val_loss - 0.52 val acc - 0.747 val auc - 0.814\n"
     ]
    },
    {
     "name": "stderr",
     "output_type": "stream",
     "text": [
      "loss - 0.4900: 100%|██████████| 12/12 [00:54<00:00,  4.56s/it]\n",
      "  0%|          | 0/2 [00:00<?, ?it/s]"
     ]
    },
    {
     "name": "stdout",
     "output_type": "stream",
     "text": [
      "epoch - 16 train_loss - 0.51 acc - 0.756 auc - 0.827\n"
     ]
    },
    {
     "name": "stderr",
     "output_type": "stream",
     "text": [
      "valid loss - 0.4901: 100%|██████████| 2/2 [00:03<00:00,  1.58s/it]\n",
      "  0%|          | 0/12 [00:00<?, ?it/s]"
     ]
    },
    {
     "name": "stdout",
     "output_type": "stream",
     "text": [
      "epoch - 16 val_loss - 0.51 val acc - 0.748 val auc - 0.816\n"
     ]
    },
    {
     "name": "stderr",
     "output_type": "stream",
     "text": [
      "loss - 0.4904: 100%|██████████| 12/12 [00:37<00:00,  3.11s/it]\n",
      "  0%|          | 0/2 [00:00<?, ?it/s]"
     ]
    },
    {
     "name": "stdout",
     "output_type": "stream",
     "text": [
      "epoch - 17 train_loss - 0.50 acc - 0.757 auc - 0.829\n"
     ]
    },
    {
     "name": "stderr",
     "output_type": "stream",
     "text": [
      "valid loss - 0.5244: 100%|██████████| 2/2 [00:02<00:00,  1.24s/it]\n",
      "  0%|          | 0/12 [00:00<?, ?it/s]"
     ]
    },
    {
     "name": "stdout",
     "output_type": "stream",
     "text": [
      "epoch - 17 val_loss - 0.52 val acc - 0.747 val auc - 0.815\n"
     ]
    },
    {
     "name": "stderr",
     "output_type": "stream",
     "text": [
      "loss - 0.4241: 100%|██████████| 12/12 [00:35<00:00,  2.98s/it]\n",
      "  0%|          | 0/2 [00:00<?, ?it/s]"
     ]
    },
    {
     "name": "stdout",
     "output_type": "stream",
     "text": [
      "epoch - 18 train_loss - 0.50 acc - 0.758 auc - 0.831\n"
     ]
    },
    {
     "name": "stderr",
     "output_type": "stream",
     "text": [
      "valid loss - 0.5099: 100%|██████████| 2/2 [00:02<00:00,  1.24s/it]\n",
      "  0%|          | 0/12 [00:00<?, ?it/s]"
     ]
    },
    {
     "name": "stdout",
     "output_type": "stream",
     "text": [
      "epoch - 18 val_loss - 0.51 val acc - 0.748 val auc - 0.817\n"
     ]
    },
    {
     "name": "stderr",
     "output_type": "stream",
     "text": [
      "loss - 0.3672: 100%|██████████| 12/12 [00:35<00:00,  2.96s/it]\n",
      "  0%|          | 0/2 [00:00<?, ?it/s]"
     ]
    },
    {
     "name": "stdout",
     "output_type": "stream",
     "text": [
      "epoch - 19 train_loss - 0.49 acc - 0.760 auc - 0.833\n"
     ]
    },
    {
     "name": "stderr",
     "output_type": "stream",
     "text": [
      "valid loss - 0.5440: 100%|██████████| 2/2 [00:02<00:00,  1.23s/it]\n",
      "  0%|          | 0/12 [00:00<?, ?it/s]"
     ]
    },
    {
     "name": "stdout",
     "output_type": "stream",
     "text": [
      "epoch - 19 val_loss - 0.52 val acc - 0.749 val auc - 0.818\n"
     ]
    },
    {
     "name": "stderr",
     "output_type": "stream",
     "text": [
      "loss - 0.5267: 100%|██████████| 12/12 [00:35<00:00,  2.95s/it]\n",
      "  0%|          | 0/2 [00:00<?, ?it/s]"
     ]
    },
    {
     "name": "stdout",
     "output_type": "stream",
     "text": [
      "epoch - 20 train_loss - 0.50 acc - 0.760 auc - 0.834\n"
     ]
    },
    {
     "name": "stderr",
     "output_type": "stream",
     "text": [
      "valid loss - 0.5289: 100%|██████████| 2/2 [00:02<00:00,  1.21s/it]\n",
      "  0%|          | 0/12 [00:00<?, ?it/s]"
     ]
    },
    {
     "name": "stdout",
     "output_type": "stream",
     "text": [
      "epoch - 20 val_loss - 0.52 val acc - 0.748 val auc - 0.818\n"
     ]
    },
    {
     "name": "stderr",
     "output_type": "stream",
     "text": [
      "loss - 0.4376: 100%|██████████| 12/12 [00:35<00:00,  2.95s/it]\n",
      "  0%|          | 0/2 [00:00<?, ?it/s]"
     ]
    },
    {
     "name": "stdout",
     "output_type": "stream",
     "text": [
      "epoch - 21 train_loss - 0.49 acc - 0.761 auc - 0.836\n"
     ]
    },
    {
     "name": "stderr",
     "output_type": "stream",
     "text": [
      "valid loss - 0.5131: 100%|██████████| 2/2 [00:02<00:00,  1.24s/it]\n",
      "  0%|          | 0/2 [00:00<?, ?it/s]"
     ]
    },
    {
     "name": "stdout",
     "output_type": "stream",
     "text": [
      "epoch - 21 val_loss - 0.51 val acc - 0.752 val auc - 0.821\n",
      "Val Loss does not improve for 5 consecutive epochs\n"
     ]
    },
    {
     "name": "stderr",
     "output_type": "stream",
     "text": [
      "valid loss - 0.4985: 100%|██████████| 2/2 [00:02<00:00,  1.32s/it]\n",
      "  0%|          | 0/12 [00:00<?, ?it/s]"
     ]
    },
    {
     "name": "stdout",
     "output_type": "stream",
     "text": [
      "epoch - 21 test_loss - 0.50 acc - 0.759 auc - 0.827\n"
     ]
    },
    {
     "name": "stderr",
     "output_type": "stream",
     "text": [
      "valid loss - 0.4828: 100%|██████████| 12/12 [00:10<00:00,  1.14it/s]\n",
      "  0%|          | 0/12 [00:00<?, ?it/s]"
     ]
    },
    {
     "name": "stdout",
     "output_type": "stream",
     "text": [
      "----------------------------------------------------------------------------\n"
     ]
    },
    {
     "name": "stderr",
     "output_type": "stream",
     "text": [
      "loss - 0.6260: 100%|██████████| 12/12 [00:35<00:00,  2.94s/it]\n",
      "  0%|          | 0/2 [00:00<?, ?it/s]"
     ]
    },
    {
     "name": "stdout",
     "output_type": "stream",
     "text": [
      "epoch - 0 train_loss - 0.69 acc - 0.555 auc - 0.563\n"
     ]
    },
    {
     "name": "stderr",
     "output_type": "stream",
     "text": [
      "valid loss - 0.6506: 100%|██████████| 2/2 [00:02<00:00,  1.25s/it]\n",
      "  0%|          | 0/12 [00:00<?, ?it/s]"
     ]
    },
    {
     "name": "stdout",
     "output_type": "stream",
     "text": [
      "epoch - 0 val_loss - 0.65 val acc - 0.610 val auc - 0.643\n"
     ]
    },
    {
     "name": "stderr",
     "output_type": "stream",
     "text": [
      "loss - 0.6134: 100%|██████████| 12/12 [00:35<00:00,  2.97s/it]\n",
      "  0%|          | 0/2 [00:00<?, ?it/s]"
     ]
    },
    {
     "name": "stdout",
     "output_type": "stream",
     "text": [
      "epoch - 1 train_loss - 0.65 acc - 0.614 auc - 0.647\n"
     ]
    },
    {
     "name": "stderr",
     "output_type": "stream",
     "text": [
      "valid loss - 0.6250: 100%|██████████| 2/2 [00:02<00:00,  1.19s/it]\n",
      "  0%|          | 0/12 [00:00<?, ?it/s]"
     ]
    },
    {
     "name": "stdout",
     "output_type": "stream",
     "text": [
      "epoch - 1 val_loss - 0.63 val acc - 0.656 val auc - 0.708\n"
     ]
    },
    {
     "name": "stderr",
     "output_type": "stream",
     "text": [
      "loss - 0.6443: 100%|██████████| 12/12 [00:35<00:00,  2.94s/it]\n",
      "  0%|          | 0/2 [00:00<?, ?it/s]"
     ]
    },
    {
     "name": "stdout",
     "output_type": "stream",
     "text": [
      "epoch - 2 train_loss - 0.63 acc - 0.646 auc - 0.695\n"
     ]
    },
    {
     "name": "stderr",
     "output_type": "stream",
     "text": [
      "valid loss - 0.6083: 100%|██████████| 2/2 [00:02<00:00,  1.21s/it]\n",
      "  0%|          | 0/12 [00:00<?, ?it/s]"
     ]
    },
    {
     "name": "stdout",
     "output_type": "stream",
     "text": [
      "epoch - 2 val_loss - 0.60 val acc - 0.684 val auc - 0.739\n"
     ]
    },
    {
     "name": "stderr",
     "output_type": "stream",
     "text": [
      "loss - 0.4542: 100%|██████████| 12/12 [00:35<00:00,  2.96s/it]\n",
      "  0%|          | 0/2 [00:00<?, ?it/s]"
     ]
    },
    {
     "name": "stdout",
     "output_type": "stream",
     "text": [
      "epoch - 3 train_loss - 0.60 acc - 0.671 auc - 0.726\n"
     ]
    },
    {
     "name": "stderr",
     "output_type": "stream",
     "text": [
      "valid loss - 0.5999: 100%|██████████| 2/2 [00:02<00:00,  1.24s/it]\n",
      "  0%|          | 0/12 [00:00<?, ?it/s]"
     ]
    },
    {
     "name": "stdout",
     "output_type": "stream",
     "text": [
      "epoch - 3 val_loss - 0.59 val acc - 0.701 val auc - 0.762\n"
     ]
    },
    {
     "name": "stderr",
     "output_type": "stream",
     "text": [
      "loss - 0.5966: 100%|██████████| 12/12 [00:35<00:00,  2.93s/it]\n",
      "  0%|          | 0/2 [00:00<?, ?it/s]"
     ]
    },
    {
     "name": "stdout",
     "output_type": "stream",
     "text": [
      "epoch - 4 train_loss - 0.59 acc - 0.685 auc - 0.746\n"
     ]
    },
    {
     "name": "stderr",
     "output_type": "stream",
     "text": [
      "valid loss - 0.5690: 100%|██████████| 2/2 [00:02<00:00,  1.20s/it]\n",
      "  0%|          | 0/12 [00:00<?, ?it/s]"
     ]
    },
    {
     "name": "stdout",
     "output_type": "stream",
     "text": [
      "epoch - 4 val_loss - 0.57 val acc - 0.711 val auc - 0.780\n"
     ]
    },
    {
     "name": "stderr",
     "output_type": "stream",
     "text": [
      "loss - 0.4195: 100%|██████████| 12/12 [00:35<00:00,  2.95s/it]\n",
      "  0%|          | 0/2 [00:00<?, ?it/s]"
     ]
    },
    {
     "name": "stdout",
     "output_type": "stream",
     "text": [
      "epoch - 5 train_loss - 0.56 acc - 0.703 auc - 0.768\n"
     ]
    },
    {
     "name": "stderr",
     "output_type": "stream",
     "text": [
      "valid loss - 0.5270: 100%|██████████| 2/2 [00:02<00:00,  1.22s/it]\n",
      "  0%|          | 0/12 [00:00<?, ?it/s]"
     ]
    },
    {
     "name": "stdout",
     "output_type": "stream",
     "text": [
      "epoch - 5 val_loss - 0.54 val acc - 0.723 val auc - 0.792\n"
     ]
    },
    {
     "name": "stderr",
     "output_type": "stream",
     "text": [
      "loss - 0.5880: 100%|██████████| 12/12 [00:35<00:00,  2.93s/it]\n",
      "  0%|          | 0/2 [00:00<?, ?it/s]"
     ]
    },
    {
     "name": "stdout",
     "output_type": "stream",
     "text": [
      "epoch - 6 train_loss - 0.56 acc - 0.711 auc - 0.779\n"
     ]
    },
    {
     "name": "stderr",
     "output_type": "stream",
     "text": [
      "valid loss - 0.5541: 100%|██████████| 2/2 [00:02<00:00,  1.20s/it]\n",
      "  0%|          | 0/12 [00:00<?, ?it/s]"
     ]
    },
    {
     "name": "stdout",
     "output_type": "stream",
     "text": [
      "epoch - 6 val_loss - 0.55 val acc - 0.727 val auc - 0.799\n"
     ]
    },
    {
     "name": "stderr",
     "output_type": "stream",
     "text": [
      "loss - 0.5032: 100%|██████████| 12/12 [00:35<00:00,  2.95s/it]\n",
      "  0%|          | 0/2 [00:00<?, ?it/s]"
     ]
    },
    {
     "name": "stdout",
     "output_type": "stream",
     "text": [
      "epoch - 7 train_loss - 0.55 acc - 0.724 auc - 0.792\n"
     ]
    },
    {
     "name": "stderr",
     "output_type": "stream",
     "text": [
      "valid loss - 0.5130: 100%|██████████| 2/2 [00:02<00:00,  1.22s/it]\n",
      "  0%|          | 0/12 [00:00<?, ?it/s]"
     ]
    },
    {
     "name": "stdout",
     "output_type": "stream",
     "text": [
      "epoch - 7 val_loss - 0.53 val acc - 0.739 val auc - 0.806\n"
     ]
    },
    {
     "name": "stderr",
     "output_type": "stream",
     "text": [
      "loss - 0.4856: 100%|██████████| 12/12 [00:35<00:00,  2.97s/it]\n",
      "  0%|          | 0/2 [00:00<?, ?it/s]"
     ]
    },
    {
     "name": "stdout",
     "output_type": "stream",
     "text": [
      "epoch - 8 train_loss - 0.54 acc - 0.731 auc - 0.799\n"
     ]
    },
    {
     "name": "stderr",
     "output_type": "stream",
     "text": [
      "valid loss - 0.5341: 100%|██████████| 2/2 [00:02<00:00,  1.25s/it]\n",
      "  0%|          | 0/12 [00:00<?, ?it/s]"
     ]
    },
    {
     "name": "stdout",
     "output_type": "stream",
     "text": [
      "epoch - 8 val_loss - 0.53 val acc - 0.737 val auc - 0.811\n"
     ]
    },
    {
     "name": "stderr",
     "output_type": "stream",
     "text": [
      "loss - 0.4756: 100%|██████████| 12/12 [00:35<00:00,  2.99s/it]\n",
      "  0%|          | 0/2 [00:00<?, ?it/s]"
     ]
    },
    {
     "name": "stdout",
     "output_type": "stream",
     "text": [
      "epoch - 9 train_loss - 0.53 acc - 0.739 auc - 0.807\n"
     ]
    },
    {
     "name": "stderr",
     "output_type": "stream",
     "text": [
      "valid loss - 0.5391: 100%|██████████| 2/2 [00:02<00:00,  1.24s/it]\n",
      "  0%|          | 0/12 [00:00<?, ?it/s]"
     ]
    },
    {
     "name": "stdout",
     "output_type": "stream",
     "text": [
      "epoch - 9 val_loss - 0.53 val acc - 0.740 val auc - 0.815\n"
     ]
    },
    {
     "name": "stderr",
     "output_type": "stream",
     "text": [
      "loss - 0.4575: 100%|██████████| 12/12 [00:58<00:00,  4.89s/it]\n",
      "  0%|          | 0/2 [00:00<?, ?it/s]"
     ]
    },
    {
     "name": "stdout",
     "output_type": "stream",
     "text": [
      "epoch - 10 train_loss - 0.52 acc - 0.740 auc - 0.812\n"
     ]
    },
    {
     "name": "stderr",
     "output_type": "stream",
     "text": [
      "valid loss - 0.5155: 100%|██████████| 2/2 [00:02<00:00,  1.24s/it]\n",
      "  0%|          | 0/12 [00:00<?, ?it/s]"
     ]
    },
    {
     "name": "stdout",
     "output_type": "stream",
     "text": [
      "epoch - 10 val_loss - 0.52 val acc - 0.748 val auc - 0.818\n"
     ]
    },
    {
     "name": "stderr",
     "output_type": "stream",
     "text": [
      "loss - 0.4585: 100%|██████████| 12/12 [00:35<00:00,  2.95s/it]\n",
      "  0%|          | 0/2 [00:00<?, ?it/s]"
     ]
    },
    {
     "name": "stdout",
     "output_type": "stream",
     "text": [
      "epoch - 11 train_loss - 0.51 acc - 0.748 auc - 0.817\n"
     ]
    },
    {
     "name": "stderr",
     "output_type": "stream",
     "text": [
      "valid loss - 0.5115: 100%|██████████| 2/2 [00:02<00:00,  1.23s/it]\n",
      "  0%|          | 0/12 [00:00<?, ?it/s]"
     ]
    },
    {
     "name": "stdout",
     "output_type": "stream",
     "text": [
      "epoch - 11 val_loss - 0.51 val acc - 0.745 val auc - 0.821\n"
     ]
    },
    {
     "name": "stderr",
     "output_type": "stream",
     "text": [
      "loss - 0.6181: 100%|██████████| 12/12 [00:35<00:00,  2.95s/it]\n",
      "  0%|          | 0/2 [00:00<?, ?it/s]"
     ]
    },
    {
     "name": "stdout",
     "output_type": "stream",
     "text": [
      "epoch - 12 train_loss - 0.52 acc - 0.750 auc - 0.820\n"
     ]
    },
    {
     "name": "stderr",
     "output_type": "stream",
     "text": [
      "valid loss - 0.5184: 100%|██████████| 2/2 [00:02<00:00,  1.19s/it]\n",
      "  0%|          | 0/12 [00:00<?, ?it/s]"
     ]
    },
    {
     "name": "stdout",
     "output_type": "stream",
     "text": [
      "epoch - 12 val_loss - 0.52 val acc - 0.744 val auc - 0.820\n"
     ]
    },
    {
     "name": "stderr",
     "output_type": "stream",
     "text": [
      "loss - 0.3592: 100%|██████████| 12/12 [00:35<00:00,  2.94s/it]\n",
      "  0%|          | 0/2 [00:00<?, ?it/s]"
     ]
    },
    {
     "name": "stdout",
     "output_type": "stream",
     "text": [
      "epoch - 13 train_loss - 0.50 acc - 0.750 auc - 0.819\n"
     ]
    },
    {
     "name": "stderr",
     "output_type": "stream",
     "text": [
      "valid loss - 0.5040: 100%|██████████| 2/2 [00:02<00:00,  1.22s/it]\n",
      "  0%|          | 0/12 [00:00<?, ?it/s]"
     ]
    },
    {
     "name": "stdout",
     "output_type": "stream",
     "text": [
      "epoch - 13 val_loss - 0.51 val acc - 0.749 val auc - 0.822\n"
     ]
    },
    {
     "name": "stderr",
     "output_type": "stream",
     "text": [
      "loss - 0.5772: 100%|██████████| 12/12 [00:35<00:00,  2.95s/it]\n",
      "  0%|          | 0/2 [00:00<?, ?it/s]"
     ]
    },
    {
     "name": "stdout",
     "output_type": "stream",
     "text": [
      "epoch - 14 train_loss - 0.52 acc - 0.753 auc - 0.824\n"
     ]
    },
    {
     "name": "stderr",
     "output_type": "stream",
     "text": [
      "valid loss - 0.4991: 100%|██████████| 2/2 [00:02<00:00,  1.22s/it]\n",
      "  0%|          | 0/12 [00:00<?, ?it/s]"
     ]
    },
    {
     "name": "stdout",
     "output_type": "stream",
     "text": [
      "epoch - 14 val_loss - 0.51 val acc - 0.750 val auc - 0.824\n"
     ]
    },
    {
     "name": "stderr",
     "output_type": "stream",
     "text": [
      "loss - 0.5845: 100%|██████████| 12/12 [00:35<00:00,  2.96s/it]\n",
      "  0%|          | 0/2 [00:00<?, ?it/s]"
     ]
    },
    {
     "name": "stdout",
     "output_type": "stream",
     "text": [
      "epoch - 15 train_loss - 0.51 acc - 0.756 auc - 0.827\n"
     ]
    },
    {
     "name": "stderr",
     "output_type": "stream",
     "text": [
      "valid loss - 0.5141: 100%|██████████| 2/2 [00:02<00:00,  1.31s/it]\n",
      "  0%|          | 0/12 [00:00<?, ?it/s]"
     ]
    },
    {
     "name": "stdout",
     "output_type": "stream",
     "text": [
      "epoch - 15 val_loss - 0.51 val acc - 0.746 val auc - 0.826\n"
     ]
    },
    {
     "name": "stderr",
     "output_type": "stream",
     "text": [
      "loss - 0.5272: 100%|██████████| 12/12 [00:35<00:00,  2.95s/it]\n",
      "  0%|          | 0/2 [00:00<?, ?it/s]"
     ]
    },
    {
     "name": "stdout",
     "output_type": "stream",
     "text": [
      "epoch - 16 train_loss - 0.51 acc - 0.756 auc - 0.828\n"
     ]
    },
    {
     "name": "stderr",
     "output_type": "stream",
     "text": [
      "valid loss - 0.5026: 100%|██████████| 2/2 [00:02<00:00,  1.23s/it]\n",
      "  0%|          | 0/12 [00:00<?, ?it/s]"
     ]
    },
    {
     "name": "stdout",
     "output_type": "stream",
     "text": [
      "epoch - 16 val_loss - 0.51 val acc - 0.752 val auc - 0.827\n"
     ]
    },
    {
     "name": "stderr",
     "output_type": "stream",
     "text": [
      "loss - 0.5356: 100%|██████████| 12/12 [00:35<00:00,  2.97s/it]\n",
      "  0%|          | 0/2 [00:00<?, ?it/s]"
     ]
    },
    {
     "name": "stdout",
     "output_type": "stream",
     "text": [
      "epoch - 17 train_loss - 0.50 acc - 0.757 auc - 0.831\n"
     ]
    },
    {
     "name": "stderr",
     "output_type": "stream",
     "text": [
      "valid loss - 0.4893: 100%|██████████| 2/2 [00:02<00:00,  1.23s/it]\n",
      "  0%|          | 0/12 [00:00<?, ?it/s]"
     ]
    },
    {
     "name": "stdout",
     "output_type": "stream",
     "text": [
      "epoch - 17 val_loss - 0.50 val acc - 0.755 val auc - 0.828\n"
     ]
    },
    {
     "name": "stderr",
     "output_type": "stream",
     "text": [
      "loss - 0.5393: 100%|██████████| 12/12 [00:35<00:00,  2.94s/it]\n",
      "  0%|          | 0/2 [00:00<?, ?it/s]"
     ]
    },
    {
     "name": "stdout",
     "output_type": "stream",
     "text": [
      "epoch - 18 train_loss - 0.50 acc - 0.761 auc - 0.832\n"
     ]
    },
    {
     "name": "stderr",
     "output_type": "stream",
     "text": [
      "valid loss - 0.5100: 100%|██████████| 2/2 [00:02<00:00,  1.24s/it]\n",
      "  0%|          | 0/12 [00:00<?, ?it/s]"
     ]
    },
    {
     "name": "stdout",
     "output_type": "stream",
     "text": [
      "epoch - 18 val_loss - 0.51 val acc - 0.752 val auc - 0.828\n"
     ]
    },
    {
     "name": "stderr",
     "output_type": "stream",
     "text": [
      "loss - 0.5238: 100%|██████████| 12/12 [00:38<00:00,  3.21s/it]\n",
      "  0%|          | 0/2 [00:00<?, ?it/s]"
     ]
    },
    {
     "name": "stdout",
     "output_type": "stream",
     "text": [
      "epoch - 19 train_loss - 0.50 acc - 0.761 auc - 0.833\n"
     ]
    },
    {
     "name": "stderr",
     "output_type": "stream",
     "text": [
      "valid loss - 0.4873: 100%|██████████| 2/2 [00:02<00:00,  1.21s/it]\n",
      "  0%|          | 0/12 [00:00<?, ?it/s]"
     ]
    },
    {
     "name": "stdout",
     "output_type": "stream",
     "text": [
      "epoch - 19 val_loss - 0.50 val acc - 0.751 val auc - 0.827\n"
     ]
    },
    {
     "name": "stderr",
     "output_type": "stream",
     "text": [
      "loss - 0.4245: 100%|██████████| 12/12 [00:35<00:00,  2.95s/it]\n",
      "  0%|          | 0/2 [00:00<?, ?it/s]"
     ]
    },
    {
     "name": "stdout",
     "output_type": "stream",
     "text": [
      "epoch - 20 train_loss - 0.49 acc - 0.763 auc - 0.835\n"
     ]
    },
    {
     "name": "stderr",
     "output_type": "stream",
     "text": [
      "valid loss - 0.4753: 100%|██████████| 2/2 [00:02<00:00,  1.26s/it]\n",
      "  0%|          | 0/12 [00:00<?, ?it/s]"
     ]
    },
    {
     "name": "stdout",
     "output_type": "stream",
     "text": [
      "epoch - 20 val_loss - 0.50 val acc - 0.751 val auc - 0.828\n"
     ]
    },
    {
     "name": "stderr",
     "output_type": "stream",
     "text": [
      "loss - 0.5384: 100%|██████████| 12/12 [00:35<00:00,  2.97s/it]\n",
      "  0%|          | 0/2 [00:00<?, ?it/s]"
     ]
    },
    {
     "name": "stdout",
     "output_type": "stream",
     "text": [
      "epoch - 21 train_loss - 0.50 acc - 0.763 auc - 0.836\n"
     ]
    },
    {
     "name": "stderr",
     "output_type": "stream",
     "text": [
      "valid loss - 0.4902: 100%|██████████| 2/2 [00:02<00:00,  1.21s/it]\n",
      "  0%|          | 0/12 [00:00<?, ?it/s]"
     ]
    },
    {
     "name": "stdout",
     "output_type": "stream",
     "text": [
      "epoch - 21 val_loss - 0.50 val acc - 0.754 val auc - 0.829\n"
     ]
    },
    {
     "name": "stderr",
     "output_type": "stream",
     "text": [
      "loss - 0.5391: 100%|██████████| 12/12 [00:35<00:00,  2.94s/it]\n",
      "  0%|          | 0/2 [00:00<?, ?it/s]"
     ]
    },
    {
     "name": "stdout",
     "output_type": "stream",
     "text": [
      "epoch - 22 train_loss - 0.50 acc - 0.764 auc - 0.837\n"
     ]
    },
    {
     "name": "stderr",
     "output_type": "stream",
     "text": [
      "valid loss - 0.4937: 100%|██████████| 2/2 [00:02<00:00,  1.22s/it]\n",
      "  0%|          | 0/12 [00:00<?, ?it/s]"
     ]
    },
    {
     "name": "stdout",
     "output_type": "stream",
     "text": [
      "epoch - 22 val_loss - 0.50 val acc - 0.754 val auc - 0.829\n"
     ]
    },
    {
     "name": "stderr",
     "output_type": "stream",
     "text": [
      "loss - 0.2840: 100%|██████████| 12/12 [00:35<00:00,  2.96s/it]\n",
      "  0%|          | 0/2 [00:00<?, ?it/s]"
     ]
    },
    {
     "name": "stdout",
     "output_type": "stream",
     "text": [
      "epoch - 23 train_loss - 0.47 acc - 0.765 auc - 0.839\n"
     ]
    },
    {
     "name": "stderr",
     "output_type": "stream",
     "text": [
      "valid loss - 0.4929: 100%|██████████| 2/2 [00:02<00:00,  1.22s/it]\n",
      "  0%|          | 0/12 [00:00<?, ?it/s]"
     ]
    },
    {
     "name": "stdout",
     "output_type": "stream",
     "text": [
      "epoch - 23 val_loss - 0.50 val acc - 0.754 val auc - 0.830\n"
     ]
    },
    {
     "name": "stderr",
     "output_type": "stream",
     "text": [
      "loss - 0.4957: 100%|██████████| 12/12 [00:35<00:00,  2.95s/it]\n",
      "  0%|          | 0/2 [00:00<?, ?it/s]"
     ]
    },
    {
     "name": "stdout",
     "output_type": "stream",
     "text": [
      "epoch - 24 train_loss - 0.49 acc - 0.764 auc - 0.838\n"
     ]
    },
    {
     "name": "stderr",
     "output_type": "stream",
     "text": [
      "valid loss - 0.4988: 100%|██████████| 2/2 [00:02<00:00,  1.25s/it]\n",
      "  0%|          | 0/12 [00:00<?, ?it/s]"
     ]
    },
    {
     "name": "stdout",
     "output_type": "stream",
     "text": [
      "epoch - 24 val_loss - 0.50 val acc - 0.754 val auc - 0.828\n"
     ]
    },
    {
     "name": "stderr",
     "output_type": "stream",
     "text": [
      "loss - 0.5373: 100%|██████████| 12/12 [00:36<00:00,  3.06s/it]\n",
      "  0%|          | 0/2 [00:00<?, ?it/s]"
     ]
    },
    {
     "name": "stdout",
     "output_type": "stream",
     "text": [
      "epoch - 25 train_loss - 0.49 acc - 0.766 auc - 0.839\n"
     ]
    },
    {
     "name": "stderr",
     "output_type": "stream",
     "text": [
      "valid loss - 0.4875: 100%|██████████| 2/2 [00:06<00:00,  3.21s/it]\n",
      "  0%|          | 0/2 [00:00<?, ?it/s]"
     ]
    },
    {
     "name": "stdout",
     "output_type": "stream",
     "text": [
      "epoch - 25 val_loss - 0.50 val acc - 0.754 val auc - 0.830\n",
      "Val Loss does not improve for 5 consecutive epochs\n"
     ]
    },
    {
     "name": "stderr",
     "output_type": "stream",
     "text": [
      "valid loss - 0.4910: 100%|██████████| 2/2 [00:07<00:00,  3.52s/it]\n",
      "  0%|          | 0/12 [00:00<?, ?it/s]"
     ]
    },
    {
     "name": "stdout",
     "output_type": "stream",
     "text": [
      "epoch - 25 test_loss - 0.50 acc - 0.761 auc - 0.834\n"
     ]
    },
    {
     "name": "stderr",
     "output_type": "stream",
     "text": [
      "valid loss - 0.5715: 100%|██████████| 12/12 [00:17<00:00,  1.43s/it]\n",
      "  0%|          | 0/12 [00:00<?, ?it/s]"
     ]
    },
    {
     "name": "stdout",
     "output_type": "stream",
     "text": [
      "----------------------------------------------------------------------------\n"
     ]
    },
    {
     "name": "stderr",
     "output_type": "stream",
     "text": [
      "loss - 0.5353: 100%|██████████| 12/12 [00:37<00:00,  3.13s/it]\n",
      "  0%|          | 0/2 [00:00<?, ?it/s]"
     ]
    },
    {
     "name": "stdout",
     "output_type": "stream",
     "text": [
      "epoch - 0 train_loss - 0.68 acc - 0.550 auc - 0.563\n"
     ]
    },
    {
     "name": "stderr",
     "output_type": "stream",
     "text": [
      "valid loss - 0.6567: 100%|██████████| 2/2 [00:02<00:00,  1.34s/it]\n",
      "  0%|          | 0/12 [00:00<?, ?it/s]"
     ]
    },
    {
     "name": "stdout",
     "output_type": "stream",
     "text": [
      "epoch - 0 val_loss - 0.66 val acc - 0.602 val auc - 0.630\n"
     ]
    },
    {
     "name": "stderr",
     "output_type": "stream",
     "text": [
      "loss - 0.6358: 100%|██████████| 12/12 [00:36<00:00,  3.04s/it]\n",
      "  0%|          | 0/2 [00:00<?, ?it/s]"
     ]
    },
    {
     "name": "stdout",
     "output_type": "stream",
     "text": [
      "epoch - 1 train_loss - 0.65 acc - 0.615 auc - 0.653\n"
     ]
    },
    {
     "name": "stderr",
     "output_type": "stream",
     "text": [
      "valid loss - 0.6169: 100%|██████████| 2/2 [00:02<00:00,  1.24s/it]\n",
      "  0%|          | 0/12 [00:00<?, ?it/s]"
     ]
    },
    {
     "name": "stdout",
     "output_type": "stream",
     "text": [
      "epoch - 1 val_loss - 0.62 val acc - 0.658 val auc - 0.701\n"
     ]
    },
    {
     "name": "stderr",
     "output_type": "stream",
     "text": [
      "loss - 0.5876: 100%|██████████| 12/12 [00:35<00:00,  2.96s/it]\n",
      "  0%|          | 0/2 [00:00<?, ?it/s]"
     ]
    },
    {
     "name": "stdout",
     "output_type": "stream",
     "text": [
      "epoch - 2 train_loss - 0.62 acc - 0.652 auc - 0.705\n"
     ]
    },
    {
     "name": "stderr",
     "output_type": "stream",
     "text": [
      "valid loss - 0.6010: 100%|██████████| 2/2 [00:02<00:00,  1.23s/it]\n",
      "  0%|          | 0/12 [00:00<?, ?it/s]"
     ]
    },
    {
     "name": "stdout",
     "output_type": "stream",
     "text": [
      "epoch - 2 val_loss - 0.60 val acc - 0.688 val auc - 0.736\n"
     ]
    },
    {
     "name": "stderr",
     "output_type": "stream",
     "text": [
      "loss - 0.5270: 100%|██████████| 12/12 [00:35<00:00,  2.95s/it]\n",
      "  0%|          | 0/2 [00:00<?, ?it/s]"
     ]
    },
    {
     "name": "stdout",
     "output_type": "stream",
     "text": [
      "epoch - 3 train_loss - 0.60 acc - 0.672 auc - 0.731\n"
     ]
    },
    {
     "name": "stderr",
     "output_type": "stream",
     "text": [
      "valid loss - 0.5755: 100%|██████████| 2/2 [00:02<00:00,  1.19s/it]\n",
      "  0%|          | 0/12 [00:00<?, ?it/s]"
     ]
    },
    {
     "name": "stdout",
     "output_type": "stream",
     "text": [
      "epoch - 3 val_loss - 0.58 val acc - 0.698 val auc - 0.754\n"
     ]
    },
    {
     "name": "stderr",
     "output_type": "stream",
     "text": [
      "loss - 0.6630: 100%|██████████| 12/12 [00:35<00:00,  2.95s/it]\n",
      "  0%|          | 0/2 [00:00<?, ?it/s]"
     ]
    },
    {
     "name": "stdout",
     "output_type": "stream",
     "text": [
      "epoch - 4 train_loss - 0.59 acc - 0.690 auc - 0.753\n"
     ]
    },
    {
     "name": "stderr",
     "output_type": "stream",
     "text": [
      "valid loss - 0.5621: 100%|██████████| 2/2 [00:02<00:00,  1.23s/it]\n",
      "  0%|          | 0/12 [00:00<?, ?it/s]"
     ]
    },
    {
     "name": "stdout",
     "output_type": "stream",
     "text": [
      "epoch - 4 val_loss - 0.57 val acc - 0.715 val auc - 0.769\n"
     ]
    },
    {
     "name": "stderr",
     "output_type": "stream",
     "text": [
      "loss - 0.5717: 100%|██████████| 12/12 [00:35<00:00,  2.94s/it]\n",
      "  0%|          | 0/2 [00:00<?, ?it/s]"
     ]
    },
    {
     "name": "stdout",
     "output_type": "stream",
     "text": [
      "epoch - 5 train_loss - 0.57 acc - 0.707 auc - 0.771\n"
     ]
    },
    {
     "name": "stderr",
     "output_type": "stream",
     "text": [
      "valid loss - 0.5698: 100%|██████████| 2/2 [00:02<00:00,  1.21s/it]\n",
      "  0%|          | 0/12 [00:00<?, ?it/s]"
     ]
    },
    {
     "name": "stdout",
     "output_type": "stream",
     "text": [
      "epoch - 5 val_loss - 0.56 val acc - 0.723 val auc - 0.780\n"
     ]
    },
    {
     "name": "stderr",
     "output_type": "stream",
     "text": [
      "loss - 0.4125: 100%|██████████| 12/12 [00:35<00:00,  2.97s/it]\n",
      "  0%|          | 0/2 [00:00<?, ?it/s]"
     ]
    },
    {
     "name": "stdout",
     "output_type": "stream",
     "text": [
      "epoch - 6 train_loss - 0.55 acc - 0.717 auc - 0.784\n"
     ]
    },
    {
     "name": "stderr",
     "output_type": "stream",
     "text": [
      "valid loss - 0.5624: 100%|██████████| 2/2 [00:02<00:00,  1.25s/it]\n",
      "  0%|          | 0/12 [00:00<?, ?it/s]"
     ]
    },
    {
     "name": "stdout",
     "output_type": "stream",
     "text": [
      "epoch - 6 val_loss - 0.55 val acc - 0.733 val auc - 0.787\n"
     ]
    },
    {
     "name": "stderr",
     "output_type": "stream",
     "text": [
      "loss - 0.5211: 100%|██████████| 12/12 [00:35<00:00,  2.94s/it]\n",
      "  0%|          | 0/2 [00:00<?, ?it/s]"
     ]
    },
    {
     "name": "stdout",
     "output_type": "stream",
     "text": [
      "epoch - 7 train_loss - 0.55 acc - 0.726 auc - 0.793\n"
     ]
    },
    {
     "name": "stderr",
     "output_type": "stream",
     "text": [
      "valid loss - 0.5330: 100%|██████████| 2/2 [00:02<00:00,  1.19s/it]\n",
      "  0%|          | 0/12 [00:00<?, ?it/s]"
     ]
    },
    {
     "name": "stdout",
     "output_type": "stream",
     "text": [
      "epoch - 7 val_loss - 0.54 val acc - 0.733 val auc - 0.794\n"
     ]
    },
    {
     "name": "stderr",
     "output_type": "stream",
     "text": [
      "loss - 0.4375: 100%|██████████| 12/12 [00:35<00:00,  2.95s/it]\n",
      "  0%|          | 0/2 [00:00<?, ?it/s]"
     ]
    },
    {
     "name": "stdout",
     "output_type": "stream",
     "text": [
      "epoch - 8 train_loss - 0.53 acc - 0.735 auc - 0.803\n"
     ]
    },
    {
     "name": "stderr",
     "output_type": "stream",
     "text": [
      "valid loss - 0.5348: 100%|██████████| 2/2 [00:02<00:00,  1.23s/it]\n",
      "  0%|          | 0/12 [00:00<?, ?it/s]"
     ]
    },
    {
     "name": "stdout",
     "output_type": "stream",
     "text": [
      "epoch - 8 val_loss - 0.53 val acc - 0.737 val auc - 0.799\n"
     ]
    },
    {
     "name": "stderr",
     "output_type": "stream",
     "text": [
      "loss - 0.4297: 100%|██████████| 12/12 [00:35<00:00,  2.94s/it]\n",
      "  0%|          | 0/2 [00:00<?, ?it/s]"
     ]
    },
    {
     "name": "stdout",
     "output_type": "stream",
     "text": [
      "epoch - 9 train_loss - 0.52 acc - 0.737 auc - 0.808\n"
     ]
    },
    {
     "name": "stderr",
     "output_type": "stream",
     "text": [
      "valid loss - 0.5349: 100%|██████████| 2/2 [00:02<00:00,  1.20s/it]\n",
      "  0%|          | 0/12 [00:00<?, ?it/s]"
     ]
    },
    {
     "name": "stdout",
     "output_type": "stream",
     "text": [
      "epoch - 9 val_loss - 0.53 val acc - 0.742 val auc - 0.801\n"
     ]
    },
    {
     "name": "stderr",
     "output_type": "stream",
     "text": [
      "loss - 0.5942: 100%|██████████| 12/12 [00:35<00:00,  2.95s/it]\n",
      "  0%|          | 0/2 [00:00<?, ?it/s]"
     ]
    },
    {
     "name": "stdout",
     "output_type": "stream",
     "text": [
      "epoch - 10 train_loss - 0.53 acc - 0.746 auc - 0.814\n"
     ]
    },
    {
     "name": "stderr",
     "output_type": "stream",
     "text": [
      "valid loss - 0.5263: 100%|██████████| 2/2 [00:02<00:00,  1.20s/it]\n",
      "  0%|          | 0/12 [00:00<?, ?it/s]"
     ]
    },
    {
     "name": "stdout",
     "output_type": "stream",
     "text": [
      "epoch - 10 val_loss - 0.53 val acc - 0.741 val auc - 0.805\n"
     ]
    },
    {
     "name": "stderr",
     "output_type": "stream",
     "text": [
      "loss - 0.6683: 100%|██████████| 12/12 [00:39<00:00,  3.31s/it]\n",
      "  0%|          | 0/2 [00:00<?, ?it/s]"
     ]
    },
    {
     "name": "stdout",
     "output_type": "stream",
     "text": [
      "epoch - 11 train_loss - 0.53 acc - 0.746 auc - 0.817\n"
     ]
    },
    {
     "name": "stderr",
     "output_type": "stream",
     "text": [
      "valid loss - 0.5245: 100%|██████████| 2/2 [00:02<00:00,  1.22s/it]\n",
      "  0%|          | 0/12 [00:00<?, ?it/s]"
     ]
    },
    {
     "name": "stdout",
     "output_type": "stream",
     "text": [
      "epoch - 11 val_loss - 0.53 val acc - 0.742 val auc - 0.804\n"
     ]
    },
    {
     "name": "stderr",
     "output_type": "stream",
     "text": [
      "loss - 0.5310: 100%|██████████| 12/12 [00:35<00:00,  2.96s/it]\n",
      "  0%|          | 0/2 [00:00<?, ?it/s]"
     ]
    },
    {
     "name": "stdout",
     "output_type": "stream",
     "text": [
      "epoch - 12 train_loss - 0.52 acc - 0.751 auc - 0.821\n"
     ]
    },
    {
     "name": "stderr",
     "output_type": "stream",
     "text": [
      "valid loss - 0.5482: 100%|██████████| 2/2 [00:02<00:00,  1.20s/it]\n",
      "  0%|          | 0/12 [00:00<?, ?it/s]"
     ]
    },
    {
     "name": "stdout",
     "output_type": "stream",
     "text": [
      "epoch - 12 val_loss - 0.53 val acc - 0.741 val auc - 0.809\n"
     ]
    },
    {
     "name": "stderr",
     "output_type": "stream",
     "text": [
      "loss - 0.5160: 100%|██████████| 12/12 [00:35<00:00,  2.95s/it]\n",
      "  0%|          | 0/2 [00:00<?, ?it/s]"
     ]
    },
    {
     "name": "stdout",
     "output_type": "stream",
     "text": [
      "epoch - 13 train_loss - 0.51 acc - 0.751 auc - 0.823\n"
     ]
    },
    {
     "name": "stderr",
     "output_type": "stream",
     "text": [
      "valid loss - 0.5203: 100%|██████████| 2/2 [00:02<00:00,  1.20s/it]\n",
      "  0%|          | 0/12 [00:00<?, ?it/s]"
     ]
    },
    {
     "name": "stdout",
     "output_type": "stream",
     "text": [
      "epoch - 13 val_loss - 0.52 val acc - 0.746 val auc - 0.807\n"
     ]
    },
    {
     "name": "stderr",
     "output_type": "stream",
     "text": [
      "loss - 0.5252: 100%|██████████| 12/12 [00:35<00:00,  2.94s/it]\n",
      "  0%|          | 0/2 [00:00<?, ?it/s]"
     ]
    },
    {
     "name": "stdout",
     "output_type": "stream",
     "text": [
      "epoch - 14 train_loss - 0.51 acc - 0.755 auc - 0.826\n"
     ]
    },
    {
     "name": "stderr",
     "output_type": "stream",
     "text": [
      "valid loss - 0.5190: 100%|██████████| 2/2 [00:02<00:00,  1.20s/it]\n",
      "  0%|          | 0/12 [00:00<?, ?it/s]"
     ]
    },
    {
     "name": "stdout",
     "output_type": "stream",
     "text": [
      "epoch - 14 val_loss - 0.52 val acc - 0.743 val auc - 0.811\n"
     ]
    },
    {
     "name": "stderr",
     "output_type": "stream",
     "text": [
      "loss - 0.5792: 100%|██████████| 12/12 [00:56<00:00,  4.69s/it]\n",
      "  0%|          | 0/2 [00:00<?, ?it/s]"
     ]
    },
    {
     "name": "stdout",
     "output_type": "stream",
     "text": [
      "epoch - 15 train_loss - 0.51 acc - 0.756 auc - 0.828\n"
     ]
    },
    {
     "name": "stderr",
     "output_type": "stream",
     "text": [
      "valid loss - 0.5190: 100%|██████████| 2/2 [00:02<00:00,  1.24s/it]\n",
      "  0%|          | 0/12 [00:00<?, ?it/s]"
     ]
    },
    {
     "name": "stdout",
     "output_type": "stream",
     "text": [
      "epoch - 15 val_loss - 0.52 val acc - 0.745 val auc - 0.810\n"
     ]
    },
    {
     "name": "stderr",
     "output_type": "stream",
     "text": [
      "loss - 0.6041: 100%|██████████| 12/12 [00:35<00:00,  2.95s/it]\n",
      "  0%|          | 0/2 [00:00<?, ?it/s]"
     ]
    },
    {
     "name": "stdout",
     "output_type": "stream",
     "text": [
      "epoch - 16 train_loss - 0.51 acc - 0.758 auc - 0.830\n"
     ]
    },
    {
     "name": "stderr",
     "output_type": "stream",
     "text": [
      "valid loss - 0.5386: 100%|██████████| 2/2 [00:02<00:00,  1.23s/it]\n",
      "  0%|          | 0/12 [00:00<?, ?it/s]"
     ]
    },
    {
     "name": "stdout",
     "output_type": "stream",
     "text": [
      "epoch - 16 val_loss - 0.52 val acc - 0.749 val auc - 0.814\n"
     ]
    },
    {
     "name": "stderr",
     "output_type": "stream",
     "text": [
      "loss - 0.5380: 100%|██████████| 12/12 [00:35<00:00,  2.98s/it]\n",
      "  0%|          | 0/2 [00:00<?, ?it/s]"
     ]
    },
    {
     "name": "stdout",
     "output_type": "stream",
     "text": [
      "epoch - 17 train_loss - 0.51 acc - 0.757 auc - 0.828\n"
     ]
    },
    {
     "name": "stderr",
     "output_type": "stream",
     "text": [
      "valid loss - 0.5136: 100%|██████████| 2/2 [00:02<00:00,  1.22s/it]\n",
      "  0%|          | 0/12 [00:00<?, ?it/s]"
     ]
    },
    {
     "name": "stdout",
     "output_type": "stream",
     "text": [
      "epoch - 17 val_loss - 0.52 val acc - 0.743 val auc - 0.812\n"
     ]
    },
    {
     "name": "stderr",
     "output_type": "stream",
     "text": [
      "loss - 0.4912: 100%|██████████| 12/12 [00:35<00:00,  2.99s/it]\n",
      "  0%|          | 0/2 [00:00<?, ?it/s]"
     ]
    },
    {
     "name": "stdout",
     "output_type": "stream",
     "text": [
      "epoch - 18 train_loss - 0.50 acc - 0.759 auc - 0.831\n"
     ]
    },
    {
     "name": "stderr",
     "output_type": "stream",
     "text": [
      "valid loss - 0.5270: 100%|██████████| 2/2 [00:02<00:00,  1.22s/it]\n",
      "  0%|          | 0/12 [00:00<?, ?it/s]"
     ]
    },
    {
     "name": "stdout",
     "output_type": "stream",
     "text": [
      "epoch - 18 val_loss - 0.52 val acc - 0.748 val auc - 0.814\n"
     ]
    },
    {
     "name": "stderr",
     "output_type": "stream",
     "text": [
      "loss - 0.6190: 100%|██████████| 12/12 [00:35<00:00,  2.95s/it]\n",
      "  0%|          | 0/2 [00:00<?, ?it/s]"
     ]
    },
    {
     "name": "stdout",
     "output_type": "stream",
     "text": [
      "epoch - 19 train_loss - 0.51 acc - 0.761 auc - 0.834\n"
     ]
    },
    {
     "name": "stderr",
     "output_type": "stream",
     "text": [
      "valid loss - 0.5234: 100%|██████████| 2/2 [00:02<00:00,  1.21s/it]\n",
      "  0%|          | 0/12 [00:00<?, ?it/s]"
     ]
    },
    {
     "name": "stdout",
     "output_type": "stream",
     "text": [
      "epoch - 19 val_loss - 0.52 val acc - 0.747 val auc - 0.811\n"
     ]
    },
    {
     "name": "stderr",
     "output_type": "stream",
     "text": [
      "loss - 0.6321: 100%|██████████| 12/12 [00:35<00:00,  2.95s/it]\n",
      "  0%|          | 0/2 [00:00<?, ?it/s]"
     ]
    },
    {
     "name": "stdout",
     "output_type": "stream",
     "text": [
      "epoch - 20 train_loss - 0.52 acc - 0.750 auc - 0.823\n"
     ]
    },
    {
     "name": "stderr",
     "output_type": "stream",
     "text": [
      "valid loss - 0.5538: 100%|██████████| 2/2 [00:02<00:00,  1.21s/it]\n",
      "  0%|          | 0/12 [00:00<?, ?it/s]"
     ]
    },
    {
     "name": "stdout",
     "output_type": "stream",
     "text": [
      "epoch - 20 val_loss - 0.53 val acc - 0.752 val auc - 0.814\n"
     ]
    },
    {
     "name": "stderr",
     "output_type": "stream",
     "text": [
      "loss - 0.4934: 100%|██████████| 12/12 [00:35<00:00,  2.97s/it]\n",
      "  0%|          | 0/2 [00:00<?, ?it/s]"
     ]
    },
    {
     "name": "stdout",
     "output_type": "stream",
     "text": [
      "epoch - 21 train_loss - 0.50 acc - 0.759 auc - 0.832\n"
     ]
    },
    {
     "name": "stderr",
     "output_type": "stream",
     "text": [
      "valid loss - 0.5018: 100%|██████████| 2/2 [00:02<00:00,  1.19s/it]\n",
      "  0%|          | 0/12 [00:00<?, ?it/s]"
     ]
    },
    {
     "name": "stdout",
     "output_type": "stream",
     "text": [
      "epoch - 21 val_loss - 0.51 val acc - 0.751 val auc - 0.815\n"
     ]
    },
    {
     "name": "stderr",
     "output_type": "stream",
     "text": [
      "loss - 0.4821: 100%|██████████| 12/12 [00:35<00:00,  2.95s/it]\n",
      "  0%|          | 0/2 [00:00<?, ?it/s]"
     ]
    },
    {
     "name": "stdout",
     "output_type": "stream",
     "text": [
      "epoch - 22 train_loss - 0.49 acc - 0.762 auc - 0.835\n"
     ]
    },
    {
     "name": "stderr",
     "output_type": "stream",
     "text": [
      "valid loss - 0.5317: 100%|██████████| 2/2 [00:02<00:00,  1.18s/it]\n",
      "  0%|          | 0/12 [00:00<?, ?it/s]"
     ]
    },
    {
     "name": "stdout",
     "output_type": "stream",
     "text": [
      "epoch - 22 val_loss - 0.52 val acc - 0.749 val auc - 0.815\n"
     ]
    },
    {
     "name": "stderr",
     "output_type": "stream",
     "text": [
      "loss - 0.3499: 100%|██████████| 12/12 [00:38<00:00,  3.17s/it]\n",
      "  0%|          | 0/2 [00:00<?, ?it/s]"
     ]
    },
    {
     "name": "stdout",
     "output_type": "stream",
     "text": [
      "epoch - 23 train_loss - 0.48 acc - 0.765 auc - 0.838\n"
     ]
    },
    {
     "name": "stderr",
     "output_type": "stream",
     "text": [
      "valid loss - 0.5217: 100%|██████████| 2/2 [00:02<00:00,  1.28s/it]\n",
      "  0%|          | 0/12 [00:00<?, ?it/s]"
     ]
    },
    {
     "name": "stdout",
     "output_type": "stream",
     "text": [
      "epoch - 23 val_loss - 0.52 val acc - 0.752 val auc - 0.816\n"
     ]
    },
    {
     "name": "stderr",
     "output_type": "stream",
     "text": [
      "loss - 0.5066: 100%|██████████| 12/12 [00:35<00:00,  2.96s/it]\n",
      "  0%|          | 0/2 [00:00<?, ?it/s]"
     ]
    },
    {
     "name": "stdout",
     "output_type": "stream",
     "text": [
      "epoch - 24 train_loss - 0.49 acc - 0.766 auc - 0.839\n"
     ]
    },
    {
     "name": "stderr",
     "output_type": "stream",
     "text": [
      "valid loss - 0.5149: 100%|██████████| 2/2 [00:02<00:00,  1.20s/it]\n",
      "  0%|          | 0/12 [00:00<?, ?it/s]"
     ]
    },
    {
     "name": "stdout",
     "output_type": "stream",
     "text": [
      "epoch - 24 val_loss - 0.51 val acc - 0.752 val auc - 0.817\n"
     ]
    },
    {
     "name": "stderr",
     "output_type": "stream",
     "text": [
      "loss - 0.4981: 100%|██████████| 12/12 [00:35<00:00,  2.94s/it]\n",
      "  0%|          | 0/2 [00:00<?, ?it/s]"
     ]
    },
    {
     "name": "stdout",
     "output_type": "stream",
     "text": [
      "epoch - 25 train_loss - 0.49 acc - 0.767 auc - 0.840\n"
     ]
    },
    {
     "name": "stderr",
     "output_type": "stream",
     "text": [
      "valid loss - 0.5101: 100%|██████████| 2/2 [00:02<00:00,  1.25s/it]\n",
      "  0%|          | 0/12 [00:00<?, ?it/s]"
     ]
    },
    {
     "name": "stdout",
     "output_type": "stream",
     "text": [
      "epoch - 25 val_loss - 0.51 val acc - 0.751 val auc - 0.817\n"
     ]
    },
    {
     "name": "stderr",
     "output_type": "stream",
     "text": [
      "loss - 0.3917: 100%|██████████| 12/12 [00:35<00:00,  2.96s/it]\n",
      "  0%|          | 0/2 [00:00<?, ?it/s]"
     ]
    },
    {
     "name": "stdout",
     "output_type": "stream",
     "text": [
      "epoch - 26 train_loss - 0.48 acc - 0.768 auc - 0.841\n"
     ]
    },
    {
     "name": "stderr",
     "output_type": "stream",
     "text": [
      "valid loss - 0.5193: 100%|██████████| 2/2 [00:02<00:00,  1.22s/it]\n",
      "  0%|          | 0/2 [00:00<?, ?it/s]"
     ]
    },
    {
     "name": "stdout",
     "output_type": "stream",
     "text": [
      "epoch - 26 val_loss - 0.51 val acc - 0.752 val auc - 0.817\n",
      "Val Loss does not improve for 5 consecutive epochs\n"
     ]
    },
    {
     "name": "stderr",
     "output_type": "stream",
     "text": [
      "valid loss - 0.5075: 100%|██████████| 2/2 [00:02<00:00,  1.23s/it]\n",
      "  0%|          | 0/12 [00:00<?, ?it/s]"
     ]
    },
    {
     "name": "stdout",
     "output_type": "stream",
     "text": [
      "epoch - 26 test_loss - 0.50 acc - 0.764 auc - 0.841\n"
     ]
    },
    {
     "name": "stderr",
     "output_type": "stream",
     "text": [
      "valid loss - 0.4549: 100%|██████████| 12/12 [00:10<00:00,  1.14it/s]\n"
     ]
    }
   ],
   "source": [
    "#user KFold\n",
    "X = np.array(group.keys())\n",
    "kfold = KFold(n_splits=5, shuffle=True)\n",
    "train_losses = list()\n",
    "train_aucs = list()\n",
    "train_accs = list()\n",
    "val_losses = list()\n",
    "val_aucs = list()\n",
    "val_accs = list()\n",
    "test_losses = list()\n",
    "test_aucs = list()\n",
    "test_accs = list()\n",
    "for train, test in kfold.split(X):\n",
    "    users_train, users_test =  X[train], X[test]\n",
    "    n = len(users_test)//2\n",
    "    users_test, users_val = users_test[:n], users_test[n: ]\n",
    "    train = PRACTICE_DATASET(group[users_train])\n",
    "    valid = PRACTICE_DATASET(group[users_val])\n",
    "    test = PRACTICE_DATASET(group[users_test])\n",
    "    train_dataloader = DataLoader(train, batch_size=64, shuffle=True, num_workers=8)\n",
    "    val_dataloader = DataLoader(valid, batch_size=64, shuffle=True, num_workers=8)\n",
    "    test_dataloader = DataLoader(test, batch_size=64, shuffle=True, num_workers=8)\n",
    "    \n",
    "    device = torch.device(\"cuda\" if torch.cuda.is_available() else \"cpu\")\n",
    "    saint = SAKTModel(n_skill)\n",
    "    epochs = 100\n",
    "    criterion = nn.BCEWithLogitsLoss()\n",
    "    optimizer = torch.optim.Adam(saint.parameters(), betas=(0.9, 0.999), lr = 0.0005, eps=1e-8)\n",
    "    saint.to(device)\n",
    "    criterion.to(device)\n",
    "    \n",
    "    def train_epoch(model=saint, train_iterator=train_dataloader, optim=optimizer, criterion=criterion, device=device):\n",
    "        model.train()\n",
    "\n",
    "        train_loss = []\n",
    "        num_corrects = 0\n",
    "        num_total = 0\n",
    "        labels = []\n",
    "        outs = []\n",
    "        tbar = tqdm(train_iterator)\n",
    "        for item in tbar:\n",
    "            x = item[0].to(device).long()\n",
    "            target_id = item[1].to(device).long()\n",
    "            label = item[2].to(device).float()            \n",
    "            target_mask = (target_id!=0)\n",
    "            optim.zero_grad()\n",
    "            output = model(x, target_id)\n",
    "            output = torch.reshape(output, label.shape)\n",
    "\n",
    "            output = torch.masked_select(output, target_mask)\n",
    "            label = torch.masked_select(label, target_mask)\n",
    "\n",
    "            loss = criterion(output, label)\n",
    "            loss.backward()\n",
    "            optim.step()\n",
    "            train_loss.append(loss.item())\n",
    "            pred = (torch.sigmoid(output) >= 0.5).long()\n",
    "\n",
    "            num_corrects += (pred == label).sum().item()\n",
    "            num_total += len(label)\n",
    "\n",
    "            labels.extend(label.view(-1).data.cpu().numpy())\n",
    "            outs.extend(output.view(-1).data.cpu().numpy())\n",
    "\n",
    "            tbar.set_description('loss - {:.4f}'.format(loss))\n",
    "        acc = num_corrects / num_total\n",
    "        auc = roc_auc_score(labels, outs)\n",
    "        loss = np.mean(train_loss)\n",
    "\n",
    "        return loss, acc, auc\n",
    "   \n",
    "\n",
    "    def val_epoch(model=saint, val_iterator=test_dataloader, \n",
    "              criterion=criterion, device=device):\n",
    "        model.eval()\n",
    "\n",
    "        train_loss = []\n",
    "        num_corrects = 0\n",
    "        num_total = 0\n",
    "        labels = []\n",
    "        outs = []\n",
    "        tbar = tqdm(val_iterator)\n",
    "        for item in tbar:\n",
    "            x = item[0].to(device).long()\n",
    "            target_id = item[1].to(device).long()\n",
    "            label = item[2].to(device).float()                \n",
    "            target_mask = (target_id!=0)\n",
    "            with torch.no_grad():\n",
    "                output = model(x, target_id)\n",
    "\n",
    "            output = torch.reshape(output, label.shape)\n",
    "            output = torch.masked_select(output, target_mask)\n",
    "            label = torch.masked_select(label, target_mask)\n",
    "\n",
    "            loss = criterion(output, label)\n",
    "            train_loss.append(loss.item())\n",
    "\n",
    "            pred = (torch.sigmoid(output) >= 0.5).long()\n",
    "            num_corrects += (pred == label).sum().item()\n",
    "            num_total += len(label)\n",
    "\n",
    "            labels.extend(label.view(-1).data.cpu().numpy())\n",
    "            outs.extend(output.view(-1).data.cpu().numpy())\n",
    "\n",
    "            tbar.set_description('valid loss - {:.4f}'.format(loss))\n",
    "\n",
    "        acc = num_corrects / num_total\n",
    "        auc = roc_auc_score(labels, outs)\n",
    "        loss = np.average(train_loss)\n",
    "\n",
    "        return loss, acc, auc\n",
    "    \n",
    "    MIN_VAL = 1000000000\n",
    "    count = 0\n",
    "    print('----------------------------------------------------------------------------')\n",
    "    for epoch in range(epochs):\n",
    "        train_loss, train_acc, train_auc = train_epoch(model=saint, device=device)\n",
    "        print(\"epoch - {} train_loss - {:.2f} acc - {:.3f} auc - {:.3f}\".format(epoch, train_loss, train_acc, train_auc))\n",
    "        val_loss, val_acc, val_auc = val_epoch(model=saint, val_iterator= val_dataloader, device=device)\n",
    "        print(\"epoch - {} val_loss - {:.2f} val acc - {:.3f} val auc - {:.3f}\".format(epoch, val_loss, val_acc, val_auc))\n",
    "        if val_loss < MIN_VAL:\n",
    "            count = 0\n",
    "            MIN_VAL = val_loss\n",
    "        else:\n",
    "            count += 1\n",
    "        if count == patience:\n",
    "            print('Val Loss does not improve for {} consecutive epochs'.format(patience))\n",
    "            break\n",
    "    test_loss, test_acc, test_auc = val_epoch(model=saint, device=device)\n",
    "    print(\"epoch - {} test_loss - {:.2f} acc - {:.3f} auc - {:.3f}\".format(epoch, test_loss, test_acc, test_auc))\n",
    "    train_loss, train_acc, train_auc = val_epoch(model=saint, val_iterator=train_dataloader, device=device)\n",
    "\n",
    "    test_losses.append(test_loss)\n",
    "    test_aucs.append(test_auc)\n",
    "    test_accs.append(test_acc)\n",
    "    train_aucs.append(train_auc)\n",
    "    train_losses.append(train_loss)\n",
    "    train_accs.append(train_acc)"
   ]
  },
  {
   "cell_type": "code",
   "execution_count": 108,
   "metadata": {},
   "outputs": [
    {
     "name": "stdout",
     "output_type": "stream",
     "text": [
      "test avg loss:  0.5010788708925247 0.005292797102223958\n",
      "test avg acc:  0.7587584410971455 0.0038923405150187982\n",
      "test avg auc:  0.833181217607432 0.004440686112031029\n"
     ]
    }
   ],
   "source": [
    "#display test loss/acc/auc\n",
    "print(\"test avg loss: \", np.mean(test_losses), np.std(test_losses) )\n",
    "print(\"test avg acc: \", np.mean(test_accs), np.std(test_accs))\n",
    "print(\"test avg auc: \", np.mean(test_aucs), np.std(test_aucs))"
   ]
  },
  {
   "cell_type": "code",
   "execution_count": 109,
   "metadata": {},
   "outputs": [
    {
     "name": "stdout",
     "output_type": "stream",
     "text": [
      "train avg loss:  0.48453757013335375 0.016128779085665405\n",
      "train avg acc:  0.7696389851050729 0.00853975991149574\n",
      "train avg auc:  0.8447220120003529 0.008914643154449769\n"
     ]
    }
   ],
   "source": [
    "#display train loss/acc/auc\n",
    "print(\"train avg loss: \", np.mean(train_losses), np.std(train_losses) )\n",
    "print(\"train avg acc: \", np.mean(train_accs), np.std(train_accs))\n",
    "print(\"train avg auc: \", np.mean(train_aucs), np.std(train_aucs))"
   ]
  }
 ],
 "metadata": {
  "kernelspec": {
   "display_name": "Python 3",
   "language": "python",
   "name": "python3"
  },
  "language_info": {
   "codemirror_mode": {
    "name": "ipython",
    "version": 3
   },
   "file_extension": ".py",
   "mimetype": "text/x-python",
   "name": "python",
   "nbconvert_exporter": "python",
   "pygments_lexer": "ipython3",
   "version": "3.8.5"
  }
 },
 "nbformat": 4,
 "nbformat_minor": 4
}
